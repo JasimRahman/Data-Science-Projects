{
 "cells": [
  {
   "cell_type": "markdown",
   "id": "1993080d",
   "metadata": {},
   "source": [
    "# Buisness Case:- Blood Donation"
   ]
  },
  {
   "cell_type": "markdown",
   "id": "9df05a7b",
   "metadata": {},
   "source": [
    "- Introduction\n",
    "Blood transfusion saves lives - from replacing lost blood during major surgery or a serious injury to treating various illnesses and blood disorders. Ensuring that there's enough blood in supply whenever needed is a serious challenge for the health professionals. The demand for blood fluctuates throughout the year. As one prominent example, blood donations slow down during busy holiday seasons. An accurate forecast for the future supply of blood allows for an appropriate action to be taken ahead of time and therefore saving more lives.\n",
    "\n",
    "##### Aim Of Project:\n",
    "\n",
    "To build a model which can identify who is likely to donate blood again using TPOT. TPOT can eliminate the most tedious part of machine learning seemlessly and effortlessly more than ever.\n",
    "\n",
    "You can reach TPOT website and documentation from TPOT.\n",
    "\n",
    "Let's get started exploring the data"
   ]
  },
  {
   "cell_type": "markdown",
   "id": "ca483938",
   "metadata": {},
   "source": [
    "Blood transfusion saves lives - from replacing lost blood during major surgery or a\n",
    "serious injury to treating various illnesses and blood disorders. Ensuring that there&#39;s\n",
    "enough blood in supply whenever needed is a serious challenge for the health\n",
    "professionals. According to WebMD,&quot;about 5 million Americans need a blood\n",
    "transfusion every year&quot;. Our dataset is from a mobile blood donation vehicle in Taiwan.\n",
    "The Blood Transfusion Service Center drives to different universities and collects blood\n",
    "as part of a blood drive. We want to predict whether or not a donor will give blood the\n",
    "next time the vehicle comes to campus in March 2007\n",
    "\n",
    "### Problem\n",
    "One of the major problem while organising the Blood Donation Camp was that to convince the people who were walking near the camp to be a donor which results in 70% of the people were not interesting in donating due to reasons like they have work to do, they need to go somewhere etc.\n",
    "\n",
    "I found the data that I needed from https://d3ilbtxij3aepc.cloudfront.net/projects/CDS-Capstone-Projects/PRCP-1011-BloodDonaPred.zip\n",
    "\n",
    "### Use information about each donor's history\n",
    "- Months since Last Donation: this is the number of monthis since this donor's most recent donation.\n",
    "- Number of Donations: this is the total number of donations that the donor has made.\n",
    "- Total Volume Donated: this is the total amound of blood that the donor has donated in cubuc centimeters.\n",
    "- Months since First Donation: this is the number of months since the donor's first donation."
   ]
  },
  {
   "cell_type": "markdown",
   "id": "52c94daa",
   "metadata": {},
   "source": [
    "## Importing Libraries"
   ]
  },
  {
   "cell_type": "code",
   "execution_count": 1,
   "id": "45b9010c",
   "metadata": {},
   "outputs": [],
   "source": [
    "# Importing the required libraries\n",
    "import pandas as pd\n",
    "import numpy as np\n",
    "import matplotlib.pyplot as plt\n",
    "import seaborn as sns\n",
    "import warnings # Filter the unwanted warings \n",
    "warnings.filterwarnings('ignore')"
   ]
  },
  {
   "cell_type": "code",
   "execution_count": 2,
   "id": "1609c372",
   "metadata": {},
   "outputs": [],
   "source": [
    "from sklearn.ensemble import ExtraTreesRegressor\n",
    "from sklearn.model_selection import train_test_split\n",
    "from sklearn.linear_model import LogisticRegression\n",
    "from sklearn.metrics import classification_report\n",
    "from sklearn.metrics import confusion_matrix\n",
    "from sklearn.metrics import accuracy_score\n",
    "from sklearn.metrics import roc_auc_score\n",
    "from sklearn.metrics import mean_squared_error,r2_score\n",
    "from math import sqrt\n",
    "from sklearn.neighbors import KNeighborsClassifier\n",
    "from sklearn.model_selection import GridSearchCV\n",
    "from sklearn.svm import SVC\n",
    "from sklearn import tree\n",
    "from sklearn.ensemble import RandomForestClassifier\n",
    "from prettytable import PrettyTable"
   ]
  },
  {
   "cell_type": "code",
   "execution_count": 3,
   "id": "d511e870",
   "metadata": {},
   "outputs": [],
   "source": [
    "# Here, We are loading the dataset by using the pandas\n",
    "\n",
    "df=pd.read_csv(r\"C:\\Users\\nithi\\Desktop\\Datamites project\\Blood Donation Prediction\\PRCP-1011-BloodDonaPred\\Data\\Warm_Up_Predict_Blood_Donations_-_Traning_Data.csv\")"
   ]
  },
  {
   "cell_type": "markdown",
   "id": "2c751c3c",
   "metadata": {},
   "source": [
    "## DOMAIN ANALYSIS"
   ]
  },
  {
   "cell_type": "markdown",
   "id": "3b333a10",
   "metadata": {},
   "source": [
    "<ol>\n",
    "<li> There is one unnamed column with the meaning so we can delete the column \n",
    "<li> Months since Last Donation column referes that the donation  made at the last month\n",
    "<li> Number of donation column indicates that the total number fo donation is done\n",
    "<li> Total volume Donated(c.c) it give the total volume of donation made at the month\n",
    "<li> Month since first donation it showes the donation made at the last month\n",
    "<li> And the last column showes the donation made in the march 2007"
   ]
  },
  {
   "cell_type": "code",
   "execution_count": 4,
   "id": "35707a3d",
   "metadata": {},
   "outputs": [
    {
     "data": {
      "text/html": [
       "<div>\n",
       "<style scoped>\n",
       "    .dataframe tbody tr th:only-of-type {\n",
       "        vertical-align: middle;\n",
       "    }\n",
       "\n",
       "    .dataframe tbody tr th {\n",
       "        vertical-align: top;\n",
       "    }\n",
       "\n",
       "    .dataframe thead th {\n",
       "        text-align: right;\n",
       "    }\n",
       "</style>\n",
       "<table border=\"1\" class=\"dataframe\">\n",
       "  <thead>\n",
       "    <tr style=\"text-align: right;\">\n",
       "      <th></th>\n",
       "      <th>Unnamed: 0</th>\n",
       "      <th>Months since Last Donation</th>\n",
       "      <th>Number of Donations</th>\n",
       "      <th>Total Volume Donated (c.c.)</th>\n",
       "      <th>Months since First Donation</th>\n",
       "      <th>Made Donation in March 2007</th>\n",
       "    </tr>\n",
       "  </thead>\n",
       "  <tbody>\n",
       "    <tr>\n",
       "      <th>0</th>\n",
       "      <td>619</td>\n",
       "      <td>2</td>\n",
       "      <td>50</td>\n",
       "      <td>12500</td>\n",
       "      <td>98</td>\n",
       "      <td>1</td>\n",
       "    </tr>\n",
       "    <tr>\n",
       "      <th>1</th>\n",
       "      <td>664</td>\n",
       "      <td>0</td>\n",
       "      <td>13</td>\n",
       "      <td>3250</td>\n",
       "      <td>28</td>\n",
       "      <td>1</td>\n",
       "    </tr>\n",
       "    <tr>\n",
       "      <th>2</th>\n",
       "      <td>441</td>\n",
       "      <td>1</td>\n",
       "      <td>16</td>\n",
       "      <td>4000</td>\n",
       "      <td>35</td>\n",
       "      <td>1</td>\n",
       "    </tr>\n",
       "    <tr>\n",
       "      <th>3</th>\n",
       "      <td>160</td>\n",
       "      <td>2</td>\n",
       "      <td>20</td>\n",
       "      <td>5000</td>\n",
       "      <td>45</td>\n",
       "      <td>1</td>\n",
       "    </tr>\n",
       "    <tr>\n",
       "      <th>4</th>\n",
       "      <td>358</td>\n",
       "      <td>1</td>\n",
       "      <td>24</td>\n",
       "      <td>6000</td>\n",
       "      <td>77</td>\n",
       "      <td>0</td>\n",
       "    </tr>\n",
       "  </tbody>\n",
       "</table>\n",
       "</div>"
      ],
      "text/plain": [
       "   Unnamed: 0  Months since Last Donation  Number of Donations  \\\n",
       "0         619                           2                   50   \n",
       "1         664                           0                   13   \n",
       "2         441                           1                   16   \n",
       "3         160                           2                   20   \n",
       "4         358                           1                   24   \n",
       "\n",
       "   Total Volume Donated (c.c.)  Months since First Donation  \\\n",
       "0                        12500                           98   \n",
       "1                         3250                           28   \n",
       "2                         4000                           35   \n",
       "3                         5000                           45   \n",
       "4                         6000                           77   \n",
       "\n",
       "   Made Donation in March 2007  \n",
       "0                            1  \n",
       "1                            1  \n",
       "2                            1  \n",
       "3                            1  \n",
       "4                            0  "
      ]
     },
     "execution_count": 4,
     "metadata": {},
     "output_type": "execute_result"
    }
   ],
   "source": [
    "# Displaying the first 4 rows of the dataset using the 'head()' function where 4 is given as a parameter\n",
    "\n",
    "df.head()"
   ]
  },
  {
   "cell_type": "code",
   "execution_count": 5,
   "id": "af7161e0",
   "metadata": {},
   "outputs": [
    {
     "data": {
      "text/html": [
       "<div>\n",
       "<style scoped>\n",
       "    .dataframe tbody tr th:only-of-type {\n",
       "        vertical-align: middle;\n",
       "    }\n",
       "\n",
       "    .dataframe tbody tr th {\n",
       "        vertical-align: top;\n",
       "    }\n",
       "\n",
       "    .dataframe thead th {\n",
       "        text-align: right;\n",
       "    }\n",
       "</style>\n",
       "<table border=\"1\" class=\"dataframe\">\n",
       "  <thead>\n",
       "    <tr style=\"text-align: right;\">\n",
       "      <th></th>\n",
       "      <th>Unnamed: 0</th>\n",
       "      <th>Months since Last Donation</th>\n",
       "      <th>Number of Donations</th>\n",
       "      <th>Total Volume Donated (c.c.)</th>\n",
       "      <th>Months since First Donation</th>\n",
       "      <th>Made Donation in March 2007</th>\n",
       "    </tr>\n",
       "  </thead>\n",
       "  <tbody>\n",
       "    <tr>\n",
       "      <th>571</th>\n",
       "      <td>698</td>\n",
       "      <td>23</td>\n",
       "      <td>1</td>\n",
       "      <td>250</td>\n",
       "      <td>23</td>\n",
       "      <td>0</td>\n",
       "    </tr>\n",
       "    <tr>\n",
       "      <th>572</th>\n",
       "      <td>433</td>\n",
       "      <td>16</td>\n",
       "      <td>3</td>\n",
       "      <td>750</td>\n",
       "      <td>86</td>\n",
       "      <td>0</td>\n",
       "    </tr>\n",
       "    <tr>\n",
       "      <th>573</th>\n",
       "      <td>360</td>\n",
       "      <td>21</td>\n",
       "      <td>2</td>\n",
       "      <td>500</td>\n",
       "      <td>52</td>\n",
       "      <td>0</td>\n",
       "    </tr>\n",
       "    <tr>\n",
       "      <th>574</th>\n",
       "      <td>541</td>\n",
       "      <td>39</td>\n",
       "      <td>1</td>\n",
       "      <td>250</td>\n",
       "      <td>39</td>\n",
       "      <td>0</td>\n",
       "    </tr>\n",
       "    <tr>\n",
       "      <th>575</th>\n",
       "      <td>74</td>\n",
       "      <td>72</td>\n",
       "      <td>1</td>\n",
       "      <td>250</td>\n",
       "      <td>72</td>\n",
       "      <td>0</td>\n",
       "    </tr>\n",
       "  </tbody>\n",
       "</table>\n",
       "</div>"
      ],
      "text/plain": [
       "     Unnamed: 0  Months since Last Donation  Number of Donations  \\\n",
       "571         698                          23                    1   \n",
       "572         433                          16                    3   \n",
       "573         360                          21                    2   \n",
       "574         541                          39                    1   \n",
       "575          74                          72                    1   \n",
       "\n",
       "     Total Volume Donated (c.c.)  Months since First Donation  \\\n",
       "571                          250                           23   \n",
       "572                          750                           86   \n",
       "573                          500                           52   \n",
       "574                          250                           39   \n",
       "575                          250                           72   \n",
       "\n",
       "     Made Donation in March 2007  \n",
       "571                            0  \n",
       "572                            0  \n",
       "573                            0  \n",
       "574                            0  \n",
       "575                            0  "
      ]
     },
     "execution_count": 5,
     "metadata": {},
     "output_type": "execute_result"
    }
   ],
   "source": [
    "# Displaying the last 4 rows of the dataset using the 'tail()' function where 4 is given as a parameter\n",
    "\n",
    "df.tail()"
   ]
  },
  {
   "cell_type": "code",
   "execution_count": 6,
   "id": "c4f6de2f",
   "metadata": {},
   "outputs": [
    {
     "data": {
      "text/plain": [
       "Index(['Unnamed: 0', 'Months since Last Donation', 'Number of Donations',\n",
       "       'Total Volume Donated (c.c.)', 'Months since First Donation',\n",
       "       'Made Donation in March 2007'],\n",
       "      dtype='object')"
      ]
     },
     "execution_count": 6,
     "metadata": {},
     "output_type": "execute_result"
    }
   ],
   "source": [
    "# Printing all the column from the dataframe\n",
    "\n",
    "df.columns"
   ]
  },
  {
   "cell_type": "code",
   "execution_count": 7,
   "id": "4b70b525",
   "metadata": {},
   "outputs": [
    {
     "data": {
      "text/plain": [
       "(576, 6)"
      ]
     },
     "execution_count": 7,
     "metadata": {},
     "output_type": "execute_result"
    }
   ],
   "source": [
    "# Printing the number of rows and columns using thr \"shape()\" function\n",
    "\n",
    "df.shape"
   ]
  },
  {
   "cell_type": "markdown",
   "id": "dc626147",
   "metadata": {},
   "source": [
    "- Shape of the dataset is 576 rows and 6 columns"
   ]
  },
  {
   "cell_type": "code",
   "execution_count": 8,
   "id": "3f52b328",
   "metadata": {},
   "outputs": [
    {
     "name": "stdout",
     "output_type": "stream",
     "text": [
      "<class 'pandas.core.frame.DataFrame'>\n",
      "RangeIndex: 576 entries, 0 to 575\n",
      "Data columns (total 6 columns):\n",
      " #   Column                       Non-Null Count  Dtype\n",
      "---  ------                       --------------  -----\n",
      " 0   Unnamed: 0                   576 non-null    int64\n",
      " 1   Months since Last Donation   576 non-null    int64\n",
      " 2   Number of Donations          576 non-null    int64\n",
      " 3   Total Volume Donated (c.c.)  576 non-null    int64\n",
      " 4   Months since First Donation  576 non-null    int64\n",
      " 5   Made Donation in March 2007  576 non-null    int64\n",
      "dtypes: int64(6)\n",
      "memory usage: 27.1 KB\n"
     ]
    }
   ],
   "source": [
    "# Basic information about the dataset\n",
    "\n",
    "df.info()"
   ]
  },
  {
   "cell_type": "code",
   "execution_count": 9,
   "id": "bf7dd513",
   "metadata": {
    "scrolled": true
   },
   "outputs": [
    {
     "data": {
      "text/plain": [
       "Unnamed: 0                     0\n",
       "Months since Last Donation     0\n",
       "Number of Donations            0\n",
       "Total Volume Donated (c.c.)    0\n",
       "Months since First Donation    0\n",
       "Made Donation in March 2007    0\n",
       "dtype: int64"
      ]
     },
     "execution_count": 9,
     "metadata": {},
     "output_type": "execute_result"
    }
   ],
   "source": [
    "# Checking for the null values\n",
    "\n",
    "df.isnull().sum()  "
   ]
  },
  {
   "cell_type": "markdown",
   "id": "21ca81cc",
   "metadata": {},
   "source": [
    "- There is no null values presented in this dataset"
   ]
  },
  {
   "cell_type": "code",
   "execution_count": 10,
   "id": "6bacc629",
   "metadata": {},
   "outputs": [
    {
     "data": {
      "text/html": [
       "<div>\n",
       "<style scoped>\n",
       "    .dataframe tbody tr th:only-of-type {\n",
       "        vertical-align: middle;\n",
       "    }\n",
       "\n",
       "    .dataframe tbody tr th {\n",
       "        vertical-align: top;\n",
       "    }\n",
       "\n",
       "    .dataframe thead th {\n",
       "        text-align: right;\n",
       "    }\n",
       "</style>\n",
       "<table border=\"1\" class=\"dataframe\">\n",
       "  <thead>\n",
       "    <tr style=\"text-align: right;\">\n",
       "      <th></th>\n",
       "      <th>Unnamed: 0</th>\n",
       "      <th>Months since Last Donation</th>\n",
       "      <th>Number of Donations</th>\n",
       "      <th>Total Volume Donated (c.c.)</th>\n",
       "      <th>Months since First Donation</th>\n",
       "      <th>Made Donation in March 2007</th>\n",
       "    </tr>\n",
       "  </thead>\n",
       "  <tbody>\n",
       "  </tbody>\n",
       "</table>\n",
       "</div>"
      ],
      "text/plain": [
       "Empty DataFrame\n",
       "Columns: [Unnamed: 0, Months since Last Donation, Number of Donations, Total Volume Donated (c.c.), Months since First Donation, Made Donation in March 2007]\n",
       "Index: []"
      ]
     },
     "execution_count": 10,
     "metadata": {},
     "output_type": "execute_result"
    }
   ],
   "source": [
    "# Checking for the duplicated values\n",
    "\n",
    "df[df.duplicated()]"
   ]
  },
  {
   "cell_type": "code",
   "execution_count": 11,
   "id": "27266c78",
   "metadata": {
    "scrolled": true
   },
   "outputs": [
    {
     "data": {
      "text/html": [
       "<div>\n",
       "<style scoped>\n",
       "    .dataframe tbody tr th:only-of-type {\n",
       "        vertical-align: middle;\n",
       "    }\n",
       "\n",
       "    .dataframe tbody tr th {\n",
       "        vertical-align: top;\n",
       "    }\n",
       "\n",
       "    .dataframe thead th {\n",
       "        text-align: right;\n",
       "    }\n",
       "</style>\n",
       "<table border=\"1\" class=\"dataframe\">\n",
       "  <thead>\n",
       "    <tr style=\"text-align: right;\">\n",
       "      <th></th>\n",
       "      <th>Unnamed: 0</th>\n",
       "      <th>Months since Last Donation</th>\n",
       "      <th>Number of Donations</th>\n",
       "      <th>Total Volume Donated (c.c.)</th>\n",
       "      <th>Months since First Donation</th>\n",
       "      <th>Made Donation in March 2007</th>\n",
       "    </tr>\n",
       "  </thead>\n",
       "  <tbody>\n",
       "    <tr>\n",
       "      <th>count</th>\n",
       "      <td>576.000000</td>\n",
       "      <td>576.000000</td>\n",
       "      <td>576.000000</td>\n",
       "      <td>576.000000</td>\n",
       "      <td>576.000000</td>\n",
       "      <td>576.000000</td>\n",
       "    </tr>\n",
       "    <tr>\n",
       "      <th>mean</th>\n",
       "      <td>374.034722</td>\n",
       "      <td>9.439236</td>\n",
       "      <td>5.427083</td>\n",
       "      <td>1356.770833</td>\n",
       "      <td>34.050347</td>\n",
       "      <td>0.239583</td>\n",
       "    </tr>\n",
       "    <tr>\n",
       "      <th>std</th>\n",
       "      <td>216.947773</td>\n",
       "      <td>8.175454</td>\n",
       "      <td>5.740010</td>\n",
       "      <td>1435.002556</td>\n",
       "      <td>24.227672</td>\n",
       "      <td>0.427200</td>\n",
       "    </tr>\n",
       "    <tr>\n",
       "      <th>min</th>\n",
       "      <td>0.000000</td>\n",
       "      <td>0.000000</td>\n",
       "      <td>1.000000</td>\n",
       "      <td>250.000000</td>\n",
       "      <td>2.000000</td>\n",
       "      <td>0.000000</td>\n",
       "    </tr>\n",
       "    <tr>\n",
       "      <th>25%</th>\n",
       "      <td>183.750000</td>\n",
       "      <td>2.000000</td>\n",
       "      <td>2.000000</td>\n",
       "      <td>500.000000</td>\n",
       "      <td>16.000000</td>\n",
       "      <td>0.000000</td>\n",
       "    </tr>\n",
       "    <tr>\n",
       "      <th>50%</th>\n",
       "      <td>375.500000</td>\n",
       "      <td>7.000000</td>\n",
       "      <td>4.000000</td>\n",
       "      <td>1000.000000</td>\n",
       "      <td>28.000000</td>\n",
       "      <td>0.000000</td>\n",
       "    </tr>\n",
       "    <tr>\n",
       "      <th>75%</th>\n",
       "      <td>562.500000</td>\n",
       "      <td>14.000000</td>\n",
       "      <td>7.000000</td>\n",
       "      <td>1750.000000</td>\n",
       "      <td>49.250000</td>\n",
       "      <td>0.000000</td>\n",
       "    </tr>\n",
       "    <tr>\n",
       "      <th>max</th>\n",
       "      <td>747.000000</td>\n",
       "      <td>74.000000</td>\n",
       "      <td>50.000000</td>\n",
       "      <td>12500.000000</td>\n",
       "      <td>98.000000</td>\n",
       "      <td>1.000000</td>\n",
       "    </tr>\n",
       "  </tbody>\n",
       "</table>\n",
       "</div>"
      ],
      "text/plain": [
       "       Unnamed: 0  Months since Last Donation  Number of Donations  \\\n",
       "count  576.000000                  576.000000           576.000000   \n",
       "mean   374.034722                    9.439236             5.427083   \n",
       "std    216.947773                    8.175454             5.740010   \n",
       "min      0.000000                    0.000000             1.000000   \n",
       "25%    183.750000                    2.000000             2.000000   \n",
       "50%    375.500000                    7.000000             4.000000   \n",
       "75%    562.500000                   14.000000             7.000000   \n",
       "max    747.000000                   74.000000            50.000000   \n",
       "\n",
       "       Total Volume Donated (c.c.)  Months since First Donation  \\\n",
       "count                   576.000000                   576.000000   \n",
       "mean                   1356.770833                    34.050347   \n",
       "std                    1435.002556                    24.227672   \n",
       "min                     250.000000                     2.000000   \n",
       "25%                     500.000000                    16.000000   \n",
       "50%                    1000.000000                    28.000000   \n",
       "75%                    1750.000000                    49.250000   \n",
       "max                   12500.000000                    98.000000   \n",
       "\n",
       "       Made Donation in March 2007  \n",
       "count                   576.000000  \n",
       "mean                      0.239583  \n",
       "std                       0.427200  \n",
       "min                       0.000000  \n",
       "25%                       0.000000  \n",
       "50%                       0.000000  \n",
       "75%                       0.000000  \n",
       "max                       1.000000  "
      ]
     },
     "execution_count": 11,
     "metadata": {},
     "output_type": "execute_result"
    }
   ],
   "source": [
    "# Status of the dataset\n",
    "\n",
    "df.describe()"
   ]
  },
  {
   "cell_type": "markdown",
   "id": "3162a668",
   "metadata": {},
   "source": [
    " - The highest numberof donation is 576.000000 and the lowest is 50.000000\n",
    " - The mean of the number of donation is 5.427083"
   ]
  },
  {
   "cell_type": "markdown",
   "id": "b2383b00",
   "metadata": {},
   "source": [
    "# Exploratory data analysis"
   ]
  },
  {
   "cell_type": "code",
   "execution_count": 12,
   "id": "25d34277",
   "metadata": {},
   "outputs": [
    {
     "data": {
      "text/plain": [
       "0    438\n",
       "1    138\n",
       "Name: Made Donation in March 2007, dtype: int64"
      ]
     },
     "execution_count": 12,
     "metadata": {},
     "output_type": "execute_result"
    }
   ],
   "source": [
    "#  It will count the number of records for every combination of unique values \n",
    "\n",
    "df['Made Donation in March 2007'].value_counts()"
   ]
  },
  {
   "cell_type": "code",
   "execution_count": 13,
   "id": "a3943505",
   "metadata": {},
   "outputs": [
    {
     "data": {
      "text/plain": [
       "0      619\n",
       "1      664\n",
       "2      441\n",
       "3      160\n",
       "4      358\n",
       "      ... \n",
       "571    698\n",
       "572    433\n",
       "573    360\n",
       "574    541\n",
       "575     74\n",
       "Name: Unnamed: 0, Length: 576, dtype: int64"
      ]
     },
     "execution_count": 13,
     "metadata": {},
     "output_type": "execute_result"
    }
   ],
   "source": [
    "# Checking the feature \n",
    "\n",
    "df['Unnamed: 0']"
   ]
  },
  {
   "cell_type": "markdown",
   "id": "6b6df59a",
   "metadata": {},
   "source": [
    "- There is one unnamed column in this dataset\n",
    "- This is the unwanted columns without the meaning"
   ]
  },
  {
   "cell_type": "code",
   "execution_count": 14,
   "id": "ba00bd17",
   "metadata": {},
   "outputs": [],
   "source": [
    "# Removing the unwanted columns\n",
    "\n",
    "df.drop(['Unnamed: 0'],axis=1,inplace=True) "
   ]
  },
  {
   "cell_type": "markdown",
   "id": "1600dc67",
   "metadata": {},
   "source": [
    "- The unnamed column has been removed"
   ]
  },
  {
   "cell_type": "code",
   "execution_count": 15,
   "id": "3600b124",
   "metadata": {
    "scrolled": true
   },
   "outputs": [
    {
     "data": {
      "text/html": [
       "<div>\n",
       "<style scoped>\n",
       "    .dataframe tbody tr th:only-of-type {\n",
       "        vertical-align: middle;\n",
       "    }\n",
       "\n",
       "    .dataframe tbody tr th {\n",
       "        vertical-align: top;\n",
       "    }\n",
       "\n",
       "    .dataframe thead th {\n",
       "        text-align: right;\n",
       "    }\n",
       "</style>\n",
       "<table border=\"1\" class=\"dataframe\">\n",
       "  <thead>\n",
       "    <tr style=\"text-align: right;\">\n",
       "      <th></th>\n",
       "      <th>Months since Last Donation</th>\n",
       "      <th>Number of Donations</th>\n",
       "      <th>Total Volume Donated (c.c.)</th>\n",
       "      <th>Months since First Donation</th>\n",
       "      <th>Made Donation in March 2007</th>\n",
       "    </tr>\n",
       "  </thead>\n",
       "  <tbody>\n",
       "    <tr>\n",
       "      <th>0</th>\n",
       "      <td>2</td>\n",
       "      <td>50</td>\n",
       "      <td>12500</td>\n",
       "      <td>98</td>\n",
       "      <td>1</td>\n",
       "    </tr>\n",
       "    <tr>\n",
       "      <th>1</th>\n",
       "      <td>0</td>\n",
       "      <td>13</td>\n",
       "      <td>3250</td>\n",
       "      <td>28</td>\n",
       "      <td>1</td>\n",
       "    </tr>\n",
       "    <tr>\n",
       "      <th>2</th>\n",
       "      <td>1</td>\n",
       "      <td>16</td>\n",
       "      <td>4000</td>\n",
       "      <td>35</td>\n",
       "      <td>1</td>\n",
       "    </tr>\n",
       "    <tr>\n",
       "      <th>3</th>\n",
       "      <td>2</td>\n",
       "      <td>20</td>\n",
       "      <td>5000</td>\n",
       "      <td>45</td>\n",
       "      <td>1</td>\n",
       "    </tr>\n",
       "    <tr>\n",
       "      <th>4</th>\n",
       "      <td>1</td>\n",
       "      <td>24</td>\n",
       "      <td>6000</td>\n",
       "      <td>77</td>\n",
       "      <td>0</td>\n",
       "    </tr>\n",
       "  </tbody>\n",
       "</table>\n",
       "</div>"
      ],
      "text/plain": [
       "   Months since Last Donation  Number of Donations  \\\n",
       "0                           2                   50   \n",
       "1                           0                   13   \n",
       "2                           1                   16   \n",
       "3                           2                   20   \n",
       "4                           1                   24   \n",
       "\n",
       "   Total Volume Donated (c.c.)  Months since First Donation  \\\n",
       "0                        12500                           98   \n",
       "1                         3250                           28   \n",
       "2                         4000                           35   \n",
       "3                         5000                           45   \n",
       "4                         6000                           77   \n",
       "\n",
       "   Made Donation in March 2007  \n",
       "0                            1  \n",
       "1                            1  \n",
       "2                            1  \n",
       "3                            1  \n",
       "4                            0  "
      ]
     },
     "execution_count": 15,
     "metadata": {},
     "output_type": "execute_result"
    }
   ],
   "source": [
    "# recheck the data the unnamed column is droped or not\n",
    "\n",
    "df.head()"
   ]
  },
  {
   "cell_type": "markdown",
   "id": "604a2fdb",
   "metadata": {},
   "source": [
    "- The unnamed column has succesfully droped"
   ]
  },
  {
   "cell_type": "markdown",
   "id": "71bdf967",
   "metadata": {},
   "source": [
    "# Univariate Analysis"
   ]
  },
  {
   "cell_type": "code",
   "execution_count": 16,
   "id": "0f007173",
   "metadata": {},
   "outputs": [],
   "source": [
    "# it set the baground into darkgrid\n",
    "\n",
    "sns.set_style(\"darkgrid\")"
   ]
  },
  {
   "cell_type": "code",
   "execution_count": 17,
   "id": "183aa960",
   "metadata": {
    "scrolled": true
   },
   "outputs": [
    {
     "data": {
      "image/png": "[encoded data removed]",
      "text/plain": [
       "<Figure size 720x360 with 1 Axes>"
      ]
     },
     "metadata": {},
     "output_type": "display_data"
    }
   ],
   "source": [
    "# Setting up the figure size\n",
    "plt.figure(figsize=(10,5)) \n",
    "\n",
    "# Setting value for the bar graph\n",
    "sns.countplot(x='Months since Last Donation',data=df,)\n",
    "\n",
    "plt.show()"
   ]
  },
  {
   "cell_type": "markdown",
   "id": "90e80f55",
   "metadata": {},
   "source": [
    "-  In the graph it shows the number of donation made at the time period"
   ]
  },
  {
   "cell_type": "code",
   "execution_count": 18,
   "id": "cc5d1a2e",
   "metadata": {
    "scrolled": true
   },
   "outputs": [
    {
     "data": {
      "image/png": "[encoded data removed]",
      "text/plain": [
       "<Figure size 432x288 with 1 Axes>"
      ]
     },
     "metadata": {},
     "output_type": "display_data"
    }
   ],
   "source": [
    "# By using the distplot seeing the distribution of month since first donation\n",
    "\n",
    "sns.distplot(df['Months since First Donation'],color='green',kde=False)\n",
    "plt.show()"
   ]
  },
  {
   "cell_type": "markdown",
   "id": "f921405a",
   "metadata": {},
   "source": [
    "- The graph shows the highest number of donation is done at the starting and it gradually decreased"
   ]
  },
  {
   "cell_type": "code",
   "execution_count": 19,
   "id": "940e18af",
   "metadata": {
    "scrolled": true
   },
   "outputs": [
    {
     "data": {
      "image/png": "[encoded data removed]",
      "text/plain": [
       "<Figure size 432x288 with 1 Axes>"
      ]
     },
     "metadata": {},
     "output_type": "display_data"
    }
   ],
   "source": [
    "# By using the distplot seeing the distribution of month since last donation\n",
    "\n",
    "sns.distplot(df['Months since Last Donation'],color='green',kde=False)\n",
    "plt.show()"
   ]
  },
  {
   "cell_type": "markdown",
   "id": "944da0e1",
   "metadata": {},
   "source": [
    "- The graph shows the highest number of donation is done at the starting and it gradually decreased"
   ]
  },
  {
   "cell_type": "code",
   "execution_count": 20,
   "id": "6c46376b",
   "metadata": {
    "scrolled": true
   },
   "outputs": [
    {
     "data": {
      "image/png": "[encoded data removed]",
      "text/plain": [
       "<Figure size 432x288 with 1 Axes>"
      ]
     },
     "metadata": {},
     "output_type": "display_data"
    }
   ],
   "source": [
    "# By using the histplot we are checking the distribution of total volume of donated\n",
    "\n",
    "sns.histplot(df['Total Volume Donated (c.c.)'],bins=30,color='red')\n",
    "plt.show()"
   ]
  },
  {
   "cell_type": "markdown",
   "id": "3aa9c63d",
   "metadata": {},
   "source": [
    "- At the starting the Total volume of Donated reaches the 200 "
   ]
  },
  {
   "cell_type": "code",
   "execution_count": 21,
   "id": "7636bc92",
   "metadata": {
    "scrolled": true
   },
   "outputs": [
    {
     "data": {
      "image/png": "[encoded data removed]",
      "text/plain": [
       "<Figure size 432x288 with 1 Axes>"
      ]
     },
     "metadata": {},
     "output_type": "display_data"
    }
   ],
   "source": [
    "# By using the histplot we are checking the distribution of total volume of donated\n",
    "\n",
    "sns.distplot(df['Number of Donations'],bins=20,color='red')\n",
    "plt.show()"
   ]
  },
  {
   "cell_type": "code",
   "execution_count": 22,
   "id": "f0ca5c83",
   "metadata": {
    "scrolled": false
   },
   "outputs": [
    {
     "data": {
      "image/png": "[encoded data removed]",
      "text/plain": [
       "<Figure size 432x288 with 1 Axes>"
      ]
     },
     "metadata": {},
     "output_type": "display_data"
    }
   ],
   "source": [
    "# checking for outliers\n",
    "\n",
    "sns.boxplot(x=df['Months since First Donation'],color='green')\n",
    "plt.show()"
   ]
  },
  {
   "cell_type": "markdown",
   "id": "a39ef4f6",
   "metadata": {},
   "source": [
    "-  There is no outlier in the month since last donation"
   ]
  },
  {
   "cell_type": "code",
   "execution_count": 23,
   "id": "5ebac756",
   "metadata": {
    "scrolled": true
   },
   "outputs": [
    {
     "data": {
      "image/png": "[encoded data removed]",
      "text/plain": [
       "<Figure size 720x360 with 1 Axes>"
      ]
     },
     "metadata": {},
     "output_type": "display_data"
    }
   ],
   "source": [
    "# checking for outliers\n",
    "# Setting up the figure size\n",
    "plt.figure(figsize=(10,5)) \n",
    "\n",
    "sns.boxplot(x=df['Months since Last Donation'],color='black')\n",
    "plt.show()"
   ]
  },
  {
   "cell_type": "markdown",
   "id": "12efa99b",
   "metadata": {},
   "source": [
    "- There are four Outlires  presented in this columns"
   ]
  },
  {
   "cell_type": "code",
   "execution_count": 24,
   "id": "b26db9a7",
   "metadata": {
    "scrolled": true
   },
   "outputs": [
    {
     "data": {
      "text/html": [
       "<div>\n",
       "<style scoped>\n",
       "    .dataframe tbody tr th:only-of-type {\n",
       "        vertical-align: middle;\n",
       "    }\n",
       "\n",
       "    .dataframe tbody tr th {\n",
       "        vertical-align: top;\n",
       "    }\n",
       "\n",
       "    .dataframe thead th {\n",
       "        text-align: right;\n",
       "    }\n",
       "</style>\n",
       "<table border=\"1\" class=\"dataframe\">\n",
       "  <thead>\n",
       "    <tr style=\"text-align: right;\">\n",
       "      <th></th>\n",
       "      <th>Months since Last Donation</th>\n",
       "      <th>Number of Donations</th>\n",
       "      <th>Total Volume Donated (c.c.)</th>\n",
       "      <th>Months since First Donation</th>\n",
       "      <th>Made Donation in March 2007</th>\n",
       "    </tr>\n",
       "  </thead>\n",
       "  <tbody>\n",
       "    <tr>\n",
       "      <th>385</th>\n",
       "      <td>74</td>\n",
       "      <td>1</td>\n",
       "      <td>250</td>\n",
       "      <td>74</td>\n",
       "      <td>0</td>\n",
       "    </tr>\n",
       "    <tr>\n",
       "      <th>575</th>\n",
       "      <td>72</td>\n",
       "      <td>1</td>\n",
       "      <td>250</td>\n",
       "      <td>72</td>\n",
       "      <td>0</td>\n",
       "    </tr>\n",
       "  </tbody>\n",
       "</table>\n",
       "</div>"
      ],
      "text/plain": [
       "     Months since Last Donation  Number of Donations  \\\n",
       "385                          74                    1   \n",
       "575                          72                    1   \n",
       "\n",
       "     Total Volume Donated (c.c.)  Months since First Donation  \\\n",
       "385                          250                           74   \n",
       "575                          250                           72   \n",
       "\n",
       "     Made Donation in March 2007  \n",
       "385                            0  \n",
       "575                            0  "
      ]
     },
     "execution_count": 24,
     "metadata": {},
     "output_type": "execute_result"
    }
   ],
   "source": [
    "# Checking for the outliers where the value is greater than 60 \n",
    "\n",
    "df.loc[df[\"Months since Last Donation\"]>=60]"
   ]
  },
  {
   "cell_type": "markdown",
   "id": "2ee369d7",
   "metadata": {},
   "source": [
    "- There are 2 outliers presented in the Months since Last Donation column"
   ]
  },
  {
   "cell_type": "code",
   "execution_count": 25,
   "id": "d46077d1",
   "metadata": {},
   "outputs": [],
   "source": [
    "# droping the outliers\n",
    "\n",
    "df.drop(df.loc[df[\"Months since Last Donation\"]>=60].index,inplace=True)"
   ]
  },
  {
   "cell_type": "code",
   "execution_count": 26,
   "id": "6ada3e91",
   "metadata": {
    "scrolled": true
   },
   "outputs": [
    {
     "data": {
      "image/png": "[encoded data removed]",
      "text/plain": [
       "<Figure size 720x360 with 1 Axes>"
      ]
     },
     "metadata": {},
     "output_type": "display_data"
    }
   ],
   "source": [
    "# Rechecking for the outliers \n",
    "\n",
    "# Setting up the figure size\n",
    "plt.figure(figsize=(10,5)) \n",
    "sns.boxplot(x=df['Months since Last Donation'],color='black')\n",
    "\n",
    "plt.show()"
   ]
  },
  {
   "cell_type": "markdown",
   "id": "1d2578d4",
   "metadata": {},
   "source": [
    "- The outliers where more than 60 has succesfully droped"
   ]
  },
  {
   "cell_type": "markdown",
   "id": "e170f6f5",
   "metadata": {},
   "source": [
    "# Bivariant Analysis"
   ]
  },
  {
   "cell_type": "code",
   "execution_count": 27,
   "id": "a5861893",
   "metadata": {
    "scrolled": false
   },
   "outputs": [
    {
     "data": {
      "image/png": "[encoded data removed]",
      "text/plain": [
       "<Figure size 432x432 with 3 Axes>"
      ]
     },
     "metadata": {},
     "output_type": "display_data"
    }
   ],
   "source": [
    "# comparision the Months since First Donation and Months since Last Donation by using the jointplot\n",
    "sns.jointplot(x='Months since First Donation',y='Months since Last Donation',data=df,kind='hex')\n",
    "plt.show()"
   ]
  },
  {
   "cell_type": "markdown",
   "id": "08b63081",
   "metadata": {},
   "source": [
    "- This graph shows the darker part show the data which has the highest number of count"
   ]
  },
  {
   "cell_type": "code",
   "execution_count": 28,
   "id": "edfb8730",
   "metadata": {
    "scrolled": false
   },
   "outputs": [
    {
     "data": {
      "text/plain": [
       "<Figure size 864x576 with 0 Axes>"
      ]
     },
     "metadata": {},
     "output_type": "display_data"
    },
    {
     "data": {
      "image/png": "[encoded data removed]",
      "text/plain": [
       "<Figure size 502.75x360 with 1 Axes>"
      ]
     },
     "metadata": {},
     "output_type": "display_data"
    }
   ],
   "source": [
    "# By using the lmplot comparing the features\n",
    "\n",
    "# Setting up the figure size\n",
    "plt.figure(figsize=(12,8))\n",
    "\n",
    "# Setting value for the bar graph\n",
    "sns.lmplot(y='Months since First Donation',x='Months since Last Donation',data=df\n",
    "           ,hue='Made Donation in March 2007',palette='Set1')\n",
    "plt.show()"
   ]
  },
  {
   "cell_type": "markdown",
   "id": "d0d7ff02",
   "metadata": {},
   "source": [
    "- This graph shows the variation of the datapoints in both the column"
   ]
  },
  {
   "cell_type": "code",
   "execution_count": 29,
   "id": "a33c67e2",
   "metadata": {},
   "outputs": [
    {
     "data": {
      "image/png": "[encoded data removed]",
      "text/plain": [
       "<Figure size 432x432 with 3 Axes>"
      ]
     },
     "metadata": {},
     "output_type": "display_data"
    }
   ],
   "source": [
    "# By using the joinplot comparing the number of donation and made donation in march 2007\n",
    "\n",
    "sns.jointplot(x='Number of Donations',y='Made Donation in March 2007',data=df,kind='reg',color='green')\n",
    "plt.show()"
   ]
  },
  {
   "cell_type": "markdown",
   "id": "846c01b8",
   "metadata": {},
   "source": [
    "- This graph shows the Number of donation and the made donation in march 2007 "
   ]
  },
  {
   "cell_type": "code",
   "execution_count": 30,
   "id": "8ed38711",
   "metadata": {},
   "outputs": [
    {
     "data": {
      "image/png": "[encoded data removed]",
      "text/plain": [
       "<Figure size 1080x1080 with 30 Axes>"
      ]
     },
     "metadata": {},
     "output_type": "display_data"
    }
   ],
   "source": [
    "# By using the  pair plot comparing all the features\n",
    "\n",
    "sns.pairplot(df,height=3,palette='coolwarm')\n",
    "plt.show()"
   ]
  },
  {
   "cell_type": "markdown",
   "id": "4602a953",
   "metadata": {},
   "source": [
    "- This graph shows the comparision of the features"
   ]
  },
  {
   "cell_type": "code",
   "execution_count": 31,
   "id": "8879daee",
   "metadata": {
    "scrolled": false
   },
   "outputs": [
    {
     "data": {
      "image/png": "[encoded data removed]",
      "text/plain": [
       "<Figure size 432x288 with 2 Axes>"
      ]
     },
     "metadata": {},
     "output_type": "display_data"
    }
   ],
   "source": [
    "# by using the HeatMap cheching the correlation between all the features\n",
    "\n",
    "sns.heatmap(df.corr(),annot_kws={\"size\":7},linecolor='white',annot=True)\n",
    "plt.show()"
   ]
  },
  {
   "cell_type": "markdown",
   "id": "5ec4e954",
   "metadata": {},
   "source": [
    " - It gives the co-relation between the datapoint \n",
    " - In the graph the number of donation and the Total volume of the donation datapoin are same \n",
    " - so we going to delete any one of the column"
   ]
  },
  {
   "cell_type": "code",
   "execution_count": 32,
   "id": "7ad310eb",
   "metadata": {},
   "outputs": [
    {
     "data": {
      "text/plain": [
       "<Figure size 2160x2160 with 0 Axes>"
      ]
     },
     "metadata": {},
     "output_type": "display_data"
    },
    {
     "data": {
      "image/png": "[encoded data removed]",
      "text/plain": [
       "<Figure size 720x720 with 4 Axes>"
      ]
     },
     "metadata": {},
     "output_type": "display_data"
    }
   ],
   "source": [
    "# Using the Cluster map\n",
    "\n",
    "plt.figure(figsize=(30, 30))    #canvas size\n",
    "\n",
    "sns.clustermap(df.corr(),cmap='coolwarm',standard_scale=1,annot=True)\n",
    "plt.show()"
   ]
  },
  {
   "cell_type": "markdown",
   "id": "cb53e7cb",
   "metadata": {},
   "source": [
    "-  In this cluster map it shows the month since last donation and total volume donated(c.c)"
   ]
  },
  {
   "cell_type": "markdown",
   "id": "d73cdffb",
   "metadata": {},
   "source": [
    "# Train & Test Split"
   ]
  },
  {
   "cell_type": "code",
   "execution_count": 33,
   "id": "bcd4917d",
   "metadata": {},
   "outputs": [],
   "source": [
    "#Spliting dataset into test & train data to train model\n",
    "\n",
    "X=df.drop(['Made Donation in March 2007'],axis=1) # independent columns X\n",
    "y=df['Made Donation in March 2007']               # dependent column y\n",
    "\n",
    "X_train, X_test, y_train, y_test = train_test_split(X, y, test_size=0.33, random_state=42,stratify=y)"
   ]
  },
  {
   "cell_type": "markdown",
   "id": "6dd45197",
   "metadata": {},
   "source": [
    "# Model Training and Evaluation"
   ]
  },
  {
   "cell_type": "markdown",
   "id": "19e93ca3",
   "metadata": {},
   "source": [
    "# 1. Logistic Regression"
   ]
  },
  {
   "cell_type": "code",
   "execution_count": 34,
   "id": "62ac7a9a",
   "metadata": {},
   "outputs": [],
   "source": [
    "# loading the logistic regression model\n",
    "\n",
    "model=LogisticRegression() "
   ]
  },
  {
   "cell_type": "code",
   "execution_count": 35,
   "id": "21530832",
   "metadata": {},
   "outputs": [
    {
     "data": {
      "text/html": [
       "<style>#sk-container-id-1 {color: black;background-color: white;}#sk-container-id-1 pre{padding: 0;}#sk-container-id-1 div.sk-toggleable {background-color: white;}#sk-container-id-1 label.sk-toggleable__label {cursor: pointer;display: block;width: 100%;margin-bottom: 0;padding: 0.3em;box-sizing: border-box;text-align: center;}#sk-container-id-1 label.sk-toggleable__label-arrow:before {content: \"▸\";float: left;margin-right: 0.25em;color: #696969;}#sk-container-id-1 label.sk-toggleable__label-arrow:hover:before {color: black;}#sk-container-id-1 div.sk-estimator:hover label.sk-toggleable__label-arrow:before {color: black;}#sk-container-id-1 div.sk-toggleable__content {max-height: 0;max-width: 0;overflow: hidden;text-align: left;background-color: #f0f8ff;}#sk-container-id-1 div.sk-toggleable__content pre {margin: 0.2em;color: black;border-radius: 0.25em;background-color: #f0f8ff;}#sk-container-id-1 input.sk-toggleable__control:checked~div.sk-toggleable__content {max-height: 200px;max-width: 100%;overflow: auto;}#sk-container-id-1 input.sk-toggleable__control:checked~label.sk-toggleable__label-arrow:before {content: \"▾\";}#sk-container-id-1 div.sk-estimator input.sk-toggleable__control:checked~label.sk-toggleable__label {background-color: #d4ebff;}#sk-container-id-1 div.sk-label input.sk-toggleable__control:checked~label.sk-toggleable__label {background-color: #d4ebff;}#sk-container-id-1 input.sk-hidden--visually {border: 0;clip: rect(1px 1px 1px 1px);clip: rect(1px, 1px, 1px, 1px);height: 1px;margin: -1px;overflow: hidden;padding: 0;position: absolute;width: 1px;}#sk-container-id-1 div.sk-estimator {font-family: monospace;background-color: #f0f8ff;border: 1px dotted black;border-radius: 0.25em;box-sizing: border-box;margin-bottom: 0.5em;}#sk-container-id-1 div.sk-estimator:hover {background-color: #d4ebff;}#sk-container-id-1 div.sk-parallel-item::after {content: \"\";width: 100%;border-bottom: 1px solid gray;flex-grow: 1;}#sk-container-id-1 div.sk-label:hover label.sk-toggleable__label {background-color: #d4ebff;}#sk-container-id-1 div.sk-serial::before {content: \"\";position: absolute;border-left: 1px solid gray;box-sizing: border-box;top: 0;bottom: 0;left: 50%;z-index: 0;}#sk-container-id-1 div.sk-serial {display: flex;flex-direction: column;align-items: center;background-color: white;padding-right: 0.2em;padding-left: 0.2em;position: relative;}#sk-container-id-1 div.sk-item {position: relative;z-index: 1;}#sk-container-id-1 div.sk-parallel {display: flex;align-items: stretch;justify-content: center;background-color: white;position: relative;}#sk-container-id-1 div.sk-item::before, #sk-container-id-1 div.sk-parallel-item::before {content: \"\";position: absolute;border-left: 1px solid gray;box-sizing: border-box;top: 0;bottom: 0;left: 50%;z-index: -1;}#sk-container-id-1 div.sk-parallel-item {display: flex;flex-direction: column;z-index: 1;position: relative;background-color: white;}#sk-container-id-1 div.sk-parallel-item:first-child::after {align-self: flex-end;width: 50%;}#sk-container-id-1 div.sk-parallel-item:last-child::after {align-self: flex-start;width: 50%;}#sk-container-id-1 div.sk-parallel-item:only-child::after {width: 0;}#sk-container-id-1 div.sk-dashed-wrapped {border: 1px dashed gray;margin: 0 0.4em 0.5em 0.4em;box-sizing: border-box;padding-bottom: 0.4em;background-color: white;}#sk-container-id-1 div.sk-label label {font-family: monospace;font-weight: bold;display: inline-block;line-height: 1.2em;}#sk-container-id-1 div.sk-label-container {text-align: center;}#sk-container-id-1 div.sk-container {/* jupyter's `normalize.less` sets `[hidden] { display: none; }` but bootstrap.min.css set `[hidden] { display: none !important; }` so we also need the `!important` here to be able to override the default hidden behavior on the sphinx rendered scikit-learn.org. See: https://github.com/scikit-learn/scikit-learn/issues/21755 */display: inline-block !important;position: relative;}#sk-container-id-1 div.sk-text-repr-fallback {display: none;}</style><div id=\"sk-container-id-1\" class=\"sk-top-container\"><div class=\"sk-text-repr-fallback\"><pre>LogisticRegression()</pre><b>In a Jupyter environment, please rerun this cell to show the HTML representation or trust the notebook. <br />On GitHub, the HTML representation is unable to render, please try loading this page with nbviewer.org.</b></div><div class=\"sk-container\" hidden><div class=\"sk-item\"><div class=\"sk-estimator sk-toggleable\"><input class=\"sk-toggleable__control sk-hidden--visually\" id=\"sk-estimator-id-1\" type=\"checkbox\" checked><label for=\"sk-estimator-id-1\" class=\"sk-toggleable__label sk-toggleable__label-arrow\">LogisticRegression</label><div class=\"sk-toggleable__content\"><pre>LogisticRegression()</pre></div></div></div></div></div>"
      ],
      "text/plain": [
       "LogisticRegression()"
      ]
     },
     "execution_count": 35,
     "metadata": {},
     "output_type": "execute_result"
    }
   ],
   "source": [
    "# fitting the data in the model\n",
    "\n",
    "model.fit(X_train,y_train)"
   ]
  },
  {
   "cell_type": "code",
   "execution_count": 36,
   "id": "c89b5b7c",
   "metadata": {},
   "outputs": [],
   "source": [
    "#pred the model with train and test data\n",
    "logmodel_pred=model.predict(X_test)\n",
    "logmodel_pred_train = model.predict(X_train)"
   ]
  },
  {
   "cell_type": "code",
   "execution_count": 37,
   "id": "497bb07a",
   "metadata": {},
   "outputs": [
    {
     "data": {
      "text/plain": [
       "array([0, 0, 0, 0, 0, 0, 0, 0, 0, 1, 0, 0, 0, 0, 0, 1, 0, 0, 0, 0, 0, 1,\n",
       "       0, 0, 0, 0, 0, 1, 0, 0, 1, 0, 0, 1, 1, 0, 0, 0, 0, 0, 0, 0, 0, 0,\n",
       "       0, 0, 0, 0, 0, 0, 0, 0, 0, 0, 1, 0, 0, 0, 0, 0, 0, 0, 0, 0, 0, 0,\n",
       "       0, 0, 0, 0, 0, 0, 0, 0, 0, 0, 0, 0, 0, 0, 0, 0, 0, 0, 0, 0, 0, 0,\n",
       "       0, 0, 0, 0, 0, 0, 0, 0, 0, 0, 0, 1, 0, 0, 0, 0, 0, 0, 0, 0, 0, 0,\n",
       "       1, 0, 0, 0, 0, 0, 0, 0, 0, 0, 0, 0, 0, 0, 0, 0, 0, 0, 0, 0, 0, 0,\n",
       "       0, 0, 0, 0, 0, 0, 1, 0, 0, 0, 0, 0, 0, 0, 0, 0, 0, 0, 0, 0, 0, 0,\n",
       "       0, 0, 0, 0, 0, 0, 0, 0, 0, 0, 0, 1, 0, 0, 0, 0, 0, 0, 0, 0, 0, 1,\n",
       "       0, 0, 0, 0, 0, 0, 0, 0, 0, 0, 0, 0, 0, 0], dtype=int64)"
      ]
     },
     "execution_count": 37,
     "metadata": {},
     "output_type": "execute_result"
    }
   ],
   "source": [
    "logmodel_pred"
   ]
  },
  {
   "cell_type": "code",
   "execution_count": 38,
   "id": "9b89081b",
   "metadata": {},
   "outputs": [
    {
     "name": "stdout",
     "output_type": "stream",
     "text": [
      "[[140  37]\n",
      " [  4   9]]\n"
     ]
    }
   ],
   "source": [
    " # confusion matrix of the test data\n",
    "    \n",
    "print(confusion_matrix(logmodel_pred,y_test))"
   ]
  },
  {
   "cell_type": "code",
   "execution_count": 39,
   "id": "5fbd2410",
   "metadata": {},
   "outputs": [
    {
     "data": {
      "text/html": [
       "<div>\n",
       "<style scoped>\n",
       "    .dataframe tbody tr th:only-of-type {\n",
       "        vertical-align: middle;\n",
       "    }\n",
       "\n",
       "    .dataframe tbody tr th {\n",
       "        vertical-align: top;\n",
       "    }\n",
       "\n",
       "    .dataframe thead th {\n",
       "        text-align: right;\n",
       "    }\n",
       "</style>\n",
       "<table border=\"1\" class=\"dataframe\">\n",
       "  <thead>\n",
       "    <tr style=\"text-align: right;\">\n",
       "      <th></th>\n",
       "      <th>0</th>\n",
       "      <th>1</th>\n",
       "      <th>accuracy</th>\n",
       "      <th>macro avg</th>\n",
       "      <th>weighted avg</th>\n",
       "    </tr>\n",
       "  </thead>\n",
       "  <tbody>\n",
       "    <tr>\n",
       "      <th>precision</th>\n",
       "      <td>0.775956</td>\n",
       "      <td>0.555556</td>\n",
       "      <td>0.765625</td>\n",
       "      <td>0.665756</td>\n",
       "      <td>0.723152</td>\n",
       "    </tr>\n",
       "    <tr>\n",
       "      <th>recall</th>\n",
       "      <td>0.972603</td>\n",
       "      <td>0.108696</td>\n",
       "      <td>0.765625</td>\n",
       "      <td>0.540649</td>\n",
       "      <td>0.765625</td>\n",
       "    </tr>\n",
       "    <tr>\n",
       "      <th>f1-score</th>\n",
       "      <td>0.863222</td>\n",
       "      <td>0.181818</td>\n",
       "      <td>0.765625</td>\n",
       "      <td>0.522520</td>\n",
       "      <td>0.699969</td>\n",
       "    </tr>\n",
       "    <tr>\n",
       "      <th>support</th>\n",
       "      <td>292.000000</td>\n",
       "      <td>92.000000</td>\n",
       "      <td>0.765625</td>\n",
       "      <td>384.000000</td>\n",
       "      <td>384.000000</td>\n",
       "    </tr>\n",
       "  </tbody>\n",
       "</table>\n",
       "</div>"
      ],
      "text/plain": [
       "                    0          1  accuracy   macro avg  weighted avg\n",
       "precision    0.775956   0.555556  0.765625    0.665756      0.723152\n",
       "recall       0.972603   0.108696  0.765625    0.540649      0.765625\n",
       "f1-score     0.863222   0.181818  0.765625    0.522520      0.699969\n",
       "support    292.000000  92.000000  0.765625  384.000000    384.000000"
      ]
     },
     "execution_count": 39,
     "metadata": {},
     "output_type": "execute_result"
    }
   ],
   "source": [
    "# classification report of the training dataset\n",
    "\n",
    "pd.DataFrame(classification_report(y_train,logmodel_pred_train,output_dict=True))"
   ]
  },
  {
   "cell_type": "code",
   "execution_count": 40,
   "id": "717e4548",
   "metadata": {
    "scrolled": true
   },
   "outputs": [
    {
     "data": {
      "text/html": [
       "<div>\n",
       "<style scoped>\n",
       "    .dataframe tbody tr th:only-of-type {\n",
       "        vertical-align: middle;\n",
       "    }\n",
       "\n",
       "    .dataframe tbody tr th {\n",
       "        vertical-align: top;\n",
       "    }\n",
       "\n",
       "    .dataframe thead th {\n",
       "        text-align: right;\n",
       "    }\n",
       "</style>\n",
       "<table border=\"1\" class=\"dataframe\">\n",
       "  <thead>\n",
       "    <tr style=\"text-align: right;\">\n",
       "      <th></th>\n",
       "      <th>0</th>\n",
       "      <th>1</th>\n",
       "      <th>accuracy</th>\n",
       "      <th>macro avg</th>\n",
       "      <th>weighted avg</th>\n",
       "    </tr>\n",
       "  </thead>\n",
       "  <tbody>\n",
       "    <tr>\n",
       "      <th>precision</th>\n",
       "      <td>0.790960</td>\n",
       "      <td>0.692308</td>\n",
       "      <td>0.784211</td>\n",
       "      <td>0.741634</td>\n",
       "      <td>0.767076</td>\n",
       "    </tr>\n",
       "    <tr>\n",
       "      <th>recall</th>\n",
       "      <td>0.972222</td>\n",
       "      <td>0.195652</td>\n",
       "      <td>0.784211</td>\n",
       "      <td>0.583937</td>\n",
       "      <td>0.784211</td>\n",
       "    </tr>\n",
       "    <tr>\n",
       "      <th>f1-score</th>\n",
       "      <td>0.872274</td>\n",
       "      <td>0.305085</td>\n",
       "      <td>0.784211</td>\n",
       "      <td>0.588679</td>\n",
       "      <td>0.734955</td>\n",
       "    </tr>\n",
       "    <tr>\n",
       "      <th>support</th>\n",
       "      <td>144.000000</td>\n",
       "      <td>46.000000</td>\n",
       "      <td>0.784211</td>\n",
       "      <td>190.000000</td>\n",
       "      <td>190.000000</td>\n",
       "    </tr>\n",
       "  </tbody>\n",
       "</table>\n",
       "</div>"
      ],
      "text/plain": [
       "                    0          1  accuracy   macro avg  weighted avg\n",
       "precision    0.790960   0.692308  0.784211    0.741634      0.767076\n",
       "recall       0.972222   0.195652  0.784211    0.583937      0.784211\n",
       "f1-score     0.872274   0.305085  0.784211    0.588679      0.734955\n",
       "support    144.000000  46.000000  0.784211  190.000000    190.000000"
      ]
     },
     "execution_count": 40,
     "metadata": {},
     "output_type": "execute_result"
    }
   ],
   "source": [
    "# classification report of the test dataset\n",
    "\n",
    "pd.DataFrame(classification_report(y_test,logmodel_pred,output_dict=True))"
   ]
  },
  {
   "cell_type": "code",
   "execution_count": 41,
   "id": "8748f9bd",
   "metadata": {},
   "outputs": [
    {
     "data": {
      "text/plain": [
       "0.6657559198542805"
      ]
     },
     "execution_count": 41,
     "metadata": {},
     "output_type": "execute_result"
    }
   ],
   "source": [
    "# roc and accuracy score of the model with traing data\n",
    "\n",
    "roc_auc_score(logmodel_pred_train,y_train)"
   ]
  },
  {
   "cell_type": "code",
   "execution_count": 42,
   "id": "e20e2532",
   "metadata": {},
   "outputs": [
    {
     "data": {
      "text/plain": [
       "0.7416340721425467"
      ]
     },
     "execution_count": 42,
     "metadata": {},
     "output_type": "execute_result"
    }
   ],
   "source": [
    "# roc and accuracy score of the model with the test data\n",
    "\n",
    "roc_auc_score(logmodel_pred,y_test)"
   ]
  },
  {
   "cell_type": "code",
   "execution_count": 43,
   "id": "6877c29f",
   "metadata": {},
   "outputs": [
    {
     "data": {
      "text/plain": [
       "0.765625"
      ]
     },
     "execution_count": 43,
     "metadata": {},
     "output_type": "execute_result"
    }
   ],
   "source": [
    "# The accuracy of the model with traing data\n",
    "\n",
    "accuracy_score(logmodel_pred_train,y_train)"
   ]
  },
  {
   "cell_type": "code",
   "execution_count": 44,
   "id": "3bb12389",
   "metadata": {
    "scrolled": true
   },
   "outputs": [
    {
     "data": {
      "text/plain": [
       "0.7842105263157895"
      ]
     },
     "execution_count": 44,
     "metadata": {},
     "output_type": "execute_result"
    }
   ],
   "source": [
    "# The accuracy of the model with test data\n",
    "\n",
    "accuracy_score(logmodel_pred,y_test)"
   ]
  },
  {
   "cell_type": "markdown",
   "id": "ef61e330",
   "metadata": {},
   "source": [
    "#####   ✔️ With test data, we achieved an accuracy of 78%, and with training data, we achieved an accuracy of 76% in Logistic Regression"
   ]
  },
  {
   "cell_type": "markdown",
   "id": "14ac187a",
   "metadata": {},
   "source": [
    "# 2 .K-Nearest Neighbor"
   ]
  },
  {
   "cell_type": "markdown",
   "id": "62baef1c",
   "metadata": {},
   "source": [
    "### Using The Elbow Method "
   ]
  },
  {
   "cell_type": "code",
   "execution_count": 45,
   "id": "6143399e",
   "metadata": {},
   "outputs": [],
   "source": [
    "# Iterating n_neighbors from 1 to 40 to get best value of K\n",
    "\n",
    "error_rate = []\n",
    "\n",
    "\n",
    "for i in range(1,40):\n",
    "    KNN = KNeighborsClassifier(n_neighbors=i,n_jobs=-1)\n",
    "    KNN.fit(X_train, y_train)  \n",
    "    X_pred = KNN.predict(X_test) \n",
    "    error = sqrt(mean_squared_error(y_test,X_pred)) \n",
    "    error_rate.append(error) "
   ]
  },
  {
   "cell_type": "code",
   "execution_count": 46,
   "id": "283f7ce1",
   "metadata": {},
   "outputs": [
    {
     "data": {
      "image/png": "[encoded data removed]",
      "text/plain": [
       "<Figure size 1080x648 with 1 Axes>"
      ]
     },
     "metadata": {},
     "output_type": "display_data"
    }
   ],
   "source": [
    "#Plotting the error rate So,that we can choose the value of K using Elbow Method\n",
    "\n",
    "plt.figure(figsize=(15,9))\n",
    "plt.plot(range(1,40),error_rate,color='blue', linestyle='dashed',marker='o',markerfacecolor='red', markersize=10)\n",
    "plt.title('Error Rate vs. K Value')\n",
    "plt.xlabel('K- Value')\n",
    "plt.ylabel('Error Rate')\n",
    "None"
   ]
  },
  {
   "cell_type": "markdown",
   "id": "d3b93d0f",
   "metadata": {},
   "source": [
    "- This graph gives the error rate of the data"
   ]
  },
  {
   "cell_type": "code",
   "execution_count": 47,
   "id": "6fef3291",
   "metadata": {},
   "outputs": [
    {
     "data": {
      "text/plain": [
       "{'n_neighbors': 2}"
      ]
     },
     "execution_count": 47,
     "metadata": {},
     "output_type": "execute_result"
    }
   ],
   "source": [
    "# Using the Grid Search CV Method\n",
    "\n",
    "from sklearn.model_selection import GridSearchCV\n",
    "params = {'n_neighbors':[1,2,3,4,5,6,7,8,9,10]}\n",
    "\n",
    "model = KNeighborsClassifier()\n",
    "\n",
    "model = GridSearchCV(model, params, cv=10)\n",
    "model.fit(X_train,y_train)\n",
    "model.best_params_"
   ]
  },
  {
   "cell_type": "code",
   "execution_count": 48,
   "id": "08d63556",
   "metadata": {},
   "outputs": [],
   "source": [
    "#load the model\n",
    "\n",
    "model=KNeighborsClassifier(n_neighbors=2,n_jobs=-1)"
   ]
  },
  {
   "cell_type": "code",
   "execution_count": 49,
   "id": "b120ce50",
   "metadata": {},
   "outputs": [
    {
     "data": {
      "text/html": [
       "<style>#sk-container-id-2 {color: black;background-color: white;}#sk-container-id-2 pre{padding: 0;}#sk-container-id-2 div.sk-toggleable {background-color: white;}#sk-container-id-2 label.sk-toggleable__label {cursor: pointer;display: block;width: 100%;margin-bottom: 0;padding: 0.3em;box-sizing: border-box;text-align: center;}#sk-container-id-2 label.sk-toggleable__label-arrow:before {content: \"▸\";float: left;margin-right: 0.25em;color: #696969;}#sk-container-id-2 label.sk-toggleable__label-arrow:hover:before {color: black;}#sk-container-id-2 div.sk-estimator:hover label.sk-toggleable__label-arrow:before {color: black;}#sk-container-id-2 div.sk-toggleable__content {max-height: 0;max-width: 0;overflow: hidden;text-align: left;background-color: #f0f8ff;}#sk-container-id-2 div.sk-toggleable__content pre {margin: 0.2em;color: black;border-radius: 0.25em;background-color: #f0f8ff;}#sk-container-id-2 input.sk-toggleable__control:checked~div.sk-toggleable__content {max-height: 200px;max-width: 100%;overflow: auto;}#sk-container-id-2 input.sk-toggleable__control:checked~label.sk-toggleable__label-arrow:before {content: \"▾\";}#sk-container-id-2 div.sk-estimator input.sk-toggleable__control:checked~label.sk-toggleable__label {background-color: #d4ebff;}#sk-container-id-2 div.sk-label input.sk-toggleable__control:checked~label.sk-toggleable__label {background-color: #d4ebff;}#sk-container-id-2 input.sk-hidden--visually {border: 0;clip: rect(1px 1px 1px 1px);clip: rect(1px, 1px, 1px, 1px);height: 1px;margin: -1px;overflow: hidden;padding: 0;position: absolute;width: 1px;}#sk-container-id-2 div.sk-estimator {font-family: monospace;background-color: #f0f8ff;border: 1px dotted black;border-radius: 0.25em;box-sizing: border-box;margin-bottom: 0.5em;}#sk-container-id-2 div.sk-estimator:hover {background-color: #d4ebff;}#sk-container-id-2 div.sk-parallel-item::after {content: \"\";width: 100%;border-bottom: 1px solid gray;flex-grow: 1;}#sk-container-id-2 div.sk-label:hover label.sk-toggleable__label {background-color: #d4ebff;}#sk-container-id-2 div.sk-serial::before {content: \"\";position: absolute;border-left: 1px solid gray;box-sizing: border-box;top: 0;bottom: 0;left: 50%;z-index: 0;}#sk-container-id-2 div.sk-serial {display: flex;flex-direction: column;align-items: center;background-color: white;padding-right: 0.2em;padding-left: 0.2em;position: relative;}#sk-container-id-2 div.sk-item {position: relative;z-index: 1;}#sk-container-id-2 div.sk-parallel {display: flex;align-items: stretch;justify-content: center;background-color: white;position: relative;}#sk-container-id-2 div.sk-item::before, #sk-container-id-2 div.sk-parallel-item::before {content: \"\";position: absolute;border-left: 1px solid gray;box-sizing: border-box;top: 0;bottom: 0;left: 50%;z-index: -1;}#sk-container-id-2 div.sk-parallel-item {display: flex;flex-direction: column;z-index: 1;position: relative;background-color: white;}#sk-container-id-2 div.sk-parallel-item:first-child::after {align-self: flex-end;width: 50%;}#sk-container-id-2 div.sk-parallel-item:last-child::after {align-self: flex-start;width: 50%;}#sk-container-id-2 div.sk-parallel-item:only-child::after {width: 0;}#sk-container-id-2 div.sk-dashed-wrapped {border: 1px dashed gray;margin: 0 0.4em 0.5em 0.4em;box-sizing: border-box;padding-bottom: 0.4em;background-color: white;}#sk-container-id-2 div.sk-label label {font-family: monospace;font-weight: bold;display: inline-block;line-height: 1.2em;}#sk-container-id-2 div.sk-label-container {text-align: center;}#sk-container-id-2 div.sk-container {/* jupyter's `normalize.less` sets `[hidden] { display: none; }` but bootstrap.min.css set `[hidden] { display: none !important; }` so we also need the `!important` here to be able to override the default hidden behavior on the sphinx rendered scikit-learn.org. See: https://github.com/scikit-learn/scikit-learn/issues/21755 */display: inline-block !important;position: relative;}#sk-container-id-2 div.sk-text-repr-fallback {display: none;}</style><div id=\"sk-container-id-2\" class=\"sk-top-container\"><div class=\"sk-text-repr-fallback\"><pre>KNeighborsClassifier(n_jobs=-1, n_neighbors=2)</pre><b>In a Jupyter environment, please rerun this cell to show the HTML representation or trust the notebook. <br />On GitHub, the HTML representation is unable to render, please try loading this page with nbviewer.org.</b></div><div class=\"sk-container\" hidden><div class=\"sk-item\"><div class=\"sk-estimator sk-toggleable\"><input class=\"sk-toggleable__control sk-hidden--visually\" id=\"sk-estimator-id-2\" type=\"checkbox\" checked><label for=\"sk-estimator-id-2\" class=\"sk-toggleable__label sk-toggleable__label-arrow\">KNeighborsClassifier</label><div class=\"sk-toggleable__content\"><pre>KNeighborsClassifier(n_jobs=-1, n_neighbors=2)</pre></div></div></div></div></div>"
      ],
      "text/plain": [
       "KNeighborsClassifier(n_jobs=-1, n_neighbors=2)"
      ]
     },
     "execution_count": 49,
     "metadata": {},
     "output_type": "execute_result"
    }
   ],
   "source": [
    "# fitting the model\n",
    "\n",
    "model.fit(X_train,y_train)"
   ]
  },
  {
   "cell_type": "code",
   "execution_count": 50,
   "id": "258a0ab6",
   "metadata": {},
   "outputs": [],
   "source": [
    "# preding the model with test data\n",
    "\n",
    "knn_pred=model.predict(X_test)"
   ]
  },
  {
   "cell_type": "code",
   "execution_count": 51,
   "id": "81e317e8",
   "metadata": {
    "scrolled": true
   },
   "outputs": [
    {
     "data": {
      "text/plain": [
       "array([0, 0, 0, 0, 0, 0, 0, 0, 0, 0, 0, 0, 0, 0, 0, 0, 0, 0, 0, 0, 0, 0,\n",
       "       0, 0, 1, 0, 1, 1, 1, 0, 0, 0, 0, 0, 0, 0, 0, 0, 0, 1, 0, 0, 0, 0,\n",
       "       0, 0, 0, 0, 0, 1, 0, 1, 0, 0, 0, 0, 0, 1, 0, 0, 0, 0, 0, 0, 0, 0,\n",
       "       0, 0, 0, 0, 0, 0, 0, 0, 0, 0, 1, 0, 1, 0, 0, 0, 0, 0, 0, 0, 0, 0,\n",
       "       0, 0, 0, 0, 0, 0, 0, 0, 0, 0, 0, 0, 0, 0, 0, 0, 0, 0, 0, 0, 0, 1,\n",
       "       0, 1, 1, 0, 0, 1, 0, 0, 0, 0, 0, 0, 0, 0, 0, 0, 0, 0, 0, 0, 0, 0,\n",
       "       0, 0, 0, 0, 0, 0, 0, 0, 1, 0, 0, 0, 0, 0, 0, 0, 0, 0, 0, 1, 0, 0,\n",
       "       0, 0, 0, 0, 0, 1, 0, 0, 0, 0, 0, 0, 0, 0, 0, 0, 0, 0, 0, 0, 0, 0,\n",
       "       0, 0, 0, 0, 0, 0, 0, 0, 0, 0, 0, 1, 0, 0], dtype=int64)"
      ]
     },
     "execution_count": 51,
     "metadata": {},
     "output_type": "execute_result"
    }
   ],
   "source": [
    "knn_pred"
   ]
  },
  {
   "cell_type": "code",
   "execution_count": 52,
   "id": "e842b556",
   "metadata": {},
   "outputs": [],
   "source": [
    "# preding the model with train data\n",
    "\n",
    "knn_pred_train=model.predict(X_train)"
   ]
  },
  {
   "cell_type": "code",
   "execution_count": 53,
   "id": "92d70a24",
   "metadata": {},
   "outputs": [
    {
     "data": {
      "text/plain": [
       "array([0, 0, 0, 0, 0, 0, 0, 0, 0, 0, 0, 0, 0, 0, 0, 0, 0, 0, 0, 0, 0, 0,\n",
       "       0, 0, 0, 0, 0, 0, 0, 0, 0, 0, 0, 0, 0, 0, 0, 0, 0, 0, 0, 1, 1, 0,\n",
       "       1, 0, 0, 0, 0, 0, 0, 1, 0, 0, 1, 1, 1, 0, 0, 0, 0, 0, 0, 0, 0, 1,\n",
       "       0, 0, 0, 0, 0, 0, 0, 0, 0, 0, 0, 0, 0, 0, 0, 0, 0, 0, 0, 0, 0, 0,\n",
       "       0, 0, 0, 0, 0, 0, 0, 0, 0, 0, 0, 0, 0, 0, 0, 0, 0, 0, 0, 0, 0, 0,\n",
       "       0, 0, 0, 0, 0, 0, 0, 0, 0, 0, 0, 0, 0, 0, 0, 0, 0, 1, 0, 0, 0, 0,\n",
       "       0, 0, 0, 0, 0, 0, 0, 0, 0, 0, 0, 0, 0, 0, 0, 0, 0, 0, 0, 0, 0, 0,\n",
       "       0, 0, 1, 0, 1, 0, 0, 0, 0, 0, 0, 0, 0, 0, 0, 0, 0, 0, 0, 0, 0, 0,\n",
       "       0, 0, 0, 0, 0, 0, 0, 0, 1, 0, 0, 0, 1, 0, 0, 0, 0, 0, 0, 0, 0, 0,\n",
       "       1, 0, 0, 0, 0, 1, 0, 0, 0, 0, 0, 0, 0, 0, 0, 0, 1, 0, 0, 1, 0, 0,\n",
       "       0, 0, 0, 1, 0, 0, 0, 0, 0, 0, 1, 0, 0, 0, 0, 0, 0, 0, 0, 0, 0, 0,\n",
       "       1, 0, 0, 0, 0, 0, 0, 1, 0, 0, 0, 0, 0, 1, 1, 0, 0, 0, 0, 0, 0, 0,\n",
       "       0, 0, 0, 1, 0, 0, 0, 0, 0, 0, 0, 0, 0, 0, 1, 0, 0, 0, 0, 1, 0, 0,\n",
       "       0, 1, 0, 0, 1, 0, 0, 0, 0, 0, 0, 0, 1, 0, 0, 0, 0, 0, 0, 0, 0, 0,\n",
       "       0, 0, 0, 0, 0, 0, 0, 0, 0, 0, 0, 0, 0, 1, 0, 0, 0, 0, 0, 1, 0, 0,\n",
       "       0, 0, 0, 0, 0, 1, 0, 0, 0, 1, 0, 0, 1, 0, 0, 1, 0, 1, 0, 0, 0, 0,\n",
       "       0, 0, 0, 0, 0, 0, 0, 0, 0, 0, 0, 0, 1, 1, 1, 0, 0, 0, 0, 0, 0, 0,\n",
       "       0, 0, 0, 0, 0, 0, 0, 0, 0, 0], dtype=int64)"
      ]
     },
     "execution_count": 53,
     "metadata": {},
     "output_type": "execute_result"
    }
   ],
   "source": [
    "knn_pred_train"
   ]
  },
  {
   "cell_type": "code",
   "execution_count": 54,
   "id": "911d0d62",
   "metadata": {},
   "outputs": [
    {
     "name": "stdout",
     "output_type": "stream",
     "text": [
      "[[136   8]\n",
      " [ 36  10]]\n"
     ]
    }
   ],
   "source": [
    "# confusion matrix of the test data\n",
    "\n",
    "print(confusion_matrix(y_test,knn_pred))"
   ]
  },
  {
   "cell_type": "code",
   "execution_count": 55,
   "id": "6bd18237",
   "metadata": {
    "scrolled": true
   },
   "outputs": [
    {
     "data": {
      "text/html": [
       "<div>\n",
       "<style scoped>\n",
       "    .dataframe tbody tr th:only-of-type {\n",
       "        vertical-align: middle;\n",
       "    }\n",
       "\n",
       "    .dataframe tbody tr th {\n",
       "        vertical-align: top;\n",
       "    }\n",
       "\n",
       "    .dataframe thead th {\n",
       "        text-align: right;\n",
       "    }\n",
       "</style>\n",
       "<table border=\"1\" class=\"dataframe\">\n",
       "  <thead>\n",
       "    <tr style=\"text-align: right;\">\n",
       "      <th></th>\n",
       "      <th>0</th>\n",
       "      <th>1</th>\n",
       "      <th>accuracy</th>\n",
       "      <th>macro avg</th>\n",
       "      <th>weighted avg</th>\n",
       "    </tr>\n",
       "  </thead>\n",
       "  <tbody>\n",
       "    <tr>\n",
       "      <th>precision</th>\n",
       "      <td>0.840580</td>\n",
       "      <td>0.948718</td>\n",
       "      <td>0.851562</td>\n",
       "      <td>0.894649</td>\n",
       "      <td>0.866488</td>\n",
       "    </tr>\n",
       "    <tr>\n",
       "      <th>recall</th>\n",
       "      <td>0.993151</td>\n",
       "      <td>0.402174</td>\n",
       "      <td>0.851562</td>\n",
       "      <td>0.697662</td>\n",
       "      <td>0.851562</td>\n",
       "    </tr>\n",
       "    <tr>\n",
       "      <th>f1-score</th>\n",
       "      <td>0.910518</td>\n",
       "      <td>0.564885</td>\n",
       "      <td>0.851562</td>\n",
       "      <td>0.737702</td>\n",
       "      <td>0.827710</td>\n",
       "    </tr>\n",
       "    <tr>\n",
       "      <th>support</th>\n",
       "      <td>292.000000</td>\n",
       "      <td>92.000000</td>\n",
       "      <td>0.851562</td>\n",
       "      <td>384.000000</td>\n",
       "      <td>384.000000</td>\n",
       "    </tr>\n",
       "  </tbody>\n",
       "</table>\n",
       "</div>"
      ],
      "text/plain": [
       "                    0          1  accuracy   macro avg  weighted avg\n",
       "precision    0.840580   0.948718  0.851562    0.894649      0.866488\n",
       "recall       0.993151   0.402174  0.851562    0.697662      0.851562\n",
       "f1-score     0.910518   0.564885  0.851562    0.737702      0.827710\n",
       "support    292.000000  92.000000  0.851562  384.000000    384.000000"
      ]
     },
     "execution_count": 55,
     "metadata": {},
     "output_type": "execute_result"
    }
   ],
   "source": [
    "# classification report of train data \n",
    "\n",
    "pd.DataFrame(classification_report(y_train,knn_pred_train,output_dict=True))"
   ]
  },
  {
   "cell_type": "code",
   "execution_count": 56,
   "id": "ccecd611",
   "metadata": {
    "scrolled": true
   },
   "outputs": [
    {
     "data": {
      "text/html": [
       "<div>\n",
       "<style scoped>\n",
       "    .dataframe tbody tr th:only-of-type {\n",
       "        vertical-align: middle;\n",
       "    }\n",
       "\n",
       "    .dataframe tbody tr th {\n",
       "        vertical-align: top;\n",
       "    }\n",
       "\n",
       "    .dataframe thead th {\n",
       "        text-align: right;\n",
       "    }\n",
       "</style>\n",
       "<table border=\"1\" class=\"dataframe\">\n",
       "  <thead>\n",
       "    <tr style=\"text-align: right;\">\n",
       "      <th></th>\n",
       "      <th>0</th>\n",
       "      <th>1</th>\n",
       "      <th>accuracy</th>\n",
       "      <th>macro avg</th>\n",
       "      <th>weighted avg</th>\n",
       "    </tr>\n",
       "  </thead>\n",
       "  <tbody>\n",
       "    <tr>\n",
       "      <th>precision</th>\n",
       "      <td>0.790698</td>\n",
       "      <td>0.555556</td>\n",
       "      <td>0.768421</td>\n",
       "      <td>0.673127</td>\n",
       "      <td>0.733769</td>\n",
       "    </tr>\n",
       "    <tr>\n",
       "      <th>recall</th>\n",
       "      <td>0.944444</td>\n",
       "      <td>0.217391</td>\n",
       "      <td>0.768421</td>\n",
       "      <td>0.580918</td>\n",
       "      <td>0.768421</td>\n",
       "    </tr>\n",
       "    <tr>\n",
       "      <th>f1-score</th>\n",
       "      <td>0.860759</td>\n",
       "      <td>0.312500</td>\n",
       "      <td>0.768421</td>\n",
       "      <td>0.586630</td>\n",
       "      <td>0.728023</td>\n",
       "    </tr>\n",
       "    <tr>\n",
       "      <th>support</th>\n",
       "      <td>144.000000</td>\n",
       "      <td>46.000000</td>\n",
       "      <td>0.768421</td>\n",
       "      <td>190.000000</td>\n",
       "      <td>190.000000</td>\n",
       "    </tr>\n",
       "  </tbody>\n",
       "</table>\n",
       "</div>"
      ],
      "text/plain": [
       "                    0          1  accuracy   macro avg  weighted avg\n",
       "precision    0.790698   0.555556  0.768421    0.673127      0.733769\n",
       "recall       0.944444   0.217391  0.768421    0.580918      0.768421\n",
       "f1-score     0.860759   0.312500  0.768421    0.586630      0.728023\n",
       "support    144.000000  46.000000  0.768421  190.000000    190.000000"
      ]
     },
     "execution_count": 56,
     "metadata": {},
     "output_type": "execute_result"
    }
   ],
   "source": [
    "# classification report of test data \n",
    "\n",
    "pd.DataFrame(classification_report(y_test,knn_pred,output_dict=True))"
   ]
  },
  {
   "cell_type": "code",
   "execution_count": 57,
   "id": "2daf0c41",
   "metadata": {},
   "outputs": [
    {
     "data": {
      "text/plain": [
       "0.8946488294314381"
      ]
     },
     "execution_count": 57,
     "metadata": {},
     "output_type": "execute_result"
    }
   ],
   "source": [
    "# roc and accuracy score of the model with traing data\n",
    "\n",
    "roc_auc_score(knn_pred_train,y_train)"
   ]
  },
  {
   "cell_type": "code",
   "execution_count": 58,
   "id": "c11a3c5a",
   "metadata": {},
   "outputs": [
    {
     "data": {
      "text/plain": [
       "0.67312661498708"
      ]
     },
     "execution_count": 58,
     "metadata": {},
     "output_type": "execute_result"
    }
   ],
   "source": [
    "# roc and accuracy score of the model\n",
    "\n",
    "roc_auc_score(knn_pred,y_test)"
   ]
  },
  {
   "cell_type": "code",
   "execution_count": 59,
   "id": "67f052cd",
   "metadata": {},
   "outputs": [
    {
     "data": {
      "text/plain": [
       "0.8515625"
      ]
     },
     "execution_count": 59,
     "metadata": {},
     "output_type": "execute_result"
    }
   ],
   "source": [
    "accuracy_score(knn_pred_train,y_train)\n",
    "\n",
    "# The accuracy of the model with traing data"
   ]
  },
  {
   "cell_type": "code",
   "execution_count": 60,
   "id": "95fb3182",
   "metadata": {},
   "outputs": [
    {
     "data": {
      "text/plain": [
       "0.7684210526315789"
      ]
     },
     "execution_count": 60,
     "metadata": {},
     "output_type": "execute_result"
    }
   ],
   "source": [
    "accuracy_score(knn_pred,y_test)\n",
    "\n",
    "# The accuracy of the model with test data"
   ]
  },
  {
   "cell_type": "markdown",
   "id": "8b2d9175",
   "metadata": {},
   "source": [
    "##### ✔️ With test data, we achieved an accuracy of 76%, and with training data, we achieved an accuracy of  85%  in K Nearest Neighbor"
   ]
  },
  {
   "cell_type": "markdown",
   "id": "549b7f25",
   "metadata": {},
   "source": [
    "   # 3.Support Vector Machine - Classifier\n"
   ]
  },
  {
   "cell_type": "code",
   "execution_count": 61,
   "id": "20da4865",
   "metadata": {},
   "outputs": [],
   "source": [
    "# loading the model\n",
    "\n",
    "model=SVC()"
   ]
  },
  {
   "cell_type": "code",
   "execution_count": 62,
   "id": "ce21ae65",
   "metadata": {},
   "outputs": [
    {
     "data": {
      "text/html": [
       "<style>#sk-container-id-3 {color: black;background-color: white;}#sk-container-id-3 pre{padding: 0;}#sk-container-id-3 div.sk-toggleable {background-color: white;}#sk-container-id-3 label.sk-toggleable__label {cursor: pointer;display: block;width: 100%;margin-bottom: 0;padding: 0.3em;box-sizing: border-box;text-align: center;}#sk-container-id-3 label.sk-toggleable__label-arrow:before {content: \"▸\";float: left;margin-right: 0.25em;color: #696969;}#sk-container-id-3 label.sk-toggleable__label-arrow:hover:before {color: black;}#sk-container-id-3 div.sk-estimator:hover label.sk-toggleable__label-arrow:before {color: black;}#sk-container-id-3 div.sk-toggleable__content {max-height: 0;max-width: 0;overflow: hidden;text-align: left;background-color: #f0f8ff;}#sk-container-id-3 div.sk-toggleable__content pre {margin: 0.2em;color: black;border-radius: 0.25em;background-color: #f0f8ff;}#sk-container-id-3 input.sk-toggleable__control:checked~div.sk-toggleable__content {max-height: 200px;max-width: 100%;overflow: auto;}#sk-container-id-3 input.sk-toggleable__control:checked~label.sk-toggleable__label-arrow:before {content: \"▾\";}#sk-container-id-3 div.sk-estimator input.sk-toggleable__control:checked~label.sk-toggleable__label {background-color: #d4ebff;}#sk-container-id-3 div.sk-label input.sk-toggleable__control:checked~label.sk-toggleable__label {background-color: #d4ebff;}#sk-container-id-3 input.sk-hidden--visually {border: 0;clip: rect(1px 1px 1px 1px);clip: rect(1px, 1px, 1px, 1px);height: 1px;margin: -1px;overflow: hidden;padding: 0;position: absolute;width: 1px;}#sk-container-id-3 div.sk-estimator {font-family: monospace;background-color: #f0f8ff;border: 1px dotted black;border-radius: 0.25em;box-sizing: border-box;margin-bottom: 0.5em;}#sk-container-id-3 div.sk-estimator:hover {background-color: #d4ebff;}#sk-container-id-3 div.sk-parallel-item::after {content: \"\";width: 100%;border-bottom: 1px solid gray;flex-grow: 1;}#sk-container-id-3 div.sk-label:hover label.sk-toggleable__label {background-color: #d4ebff;}#sk-container-id-3 div.sk-serial::before {content: \"\";position: absolute;border-left: 1px solid gray;box-sizing: border-box;top: 0;bottom: 0;left: 50%;z-index: 0;}#sk-container-id-3 div.sk-serial {display: flex;flex-direction: column;align-items: center;background-color: white;padding-right: 0.2em;padding-left: 0.2em;position: relative;}#sk-container-id-3 div.sk-item {position: relative;z-index: 1;}#sk-container-id-3 div.sk-parallel {display: flex;align-items: stretch;justify-content: center;background-color: white;position: relative;}#sk-container-id-3 div.sk-item::before, #sk-container-id-3 div.sk-parallel-item::before {content: \"\";position: absolute;border-left: 1px solid gray;box-sizing: border-box;top: 0;bottom: 0;left: 50%;z-index: -1;}#sk-container-id-3 div.sk-parallel-item {display: flex;flex-direction: column;z-index: 1;position: relative;background-color: white;}#sk-container-id-3 div.sk-parallel-item:first-child::after {align-self: flex-end;width: 50%;}#sk-container-id-3 div.sk-parallel-item:last-child::after {align-self: flex-start;width: 50%;}#sk-container-id-3 div.sk-parallel-item:only-child::after {width: 0;}#sk-container-id-3 div.sk-dashed-wrapped {border: 1px dashed gray;margin: 0 0.4em 0.5em 0.4em;box-sizing: border-box;padding-bottom: 0.4em;background-color: white;}#sk-container-id-3 div.sk-label label {font-family: monospace;font-weight: bold;display: inline-block;line-height: 1.2em;}#sk-container-id-3 div.sk-label-container {text-align: center;}#sk-container-id-3 div.sk-container {/* jupyter's `normalize.less` sets `[hidden] { display: none; }` but bootstrap.min.css set `[hidden] { display: none !important; }` so we also need the `!important` here to be able to override the default hidden behavior on the sphinx rendered scikit-learn.org. See: https://github.com/scikit-learn/scikit-learn/issues/21755 */display: inline-block !important;position: relative;}#sk-container-id-3 div.sk-text-repr-fallback {display: none;}</style><div id=\"sk-container-id-3\" class=\"sk-top-container\"><div class=\"sk-text-repr-fallback\"><pre>SVC()</pre><b>In a Jupyter environment, please rerun this cell to show the HTML representation or trust the notebook. <br />On GitHub, the HTML representation is unable to render, please try loading this page with nbviewer.org.</b></div><div class=\"sk-container\" hidden><div class=\"sk-item\"><div class=\"sk-estimator sk-toggleable\"><input class=\"sk-toggleable__control sk-hidden--visually\" id=\"sk-estimator-id-3\" type=\"checkbox\" checked><label for=\"sk-estimator-id-3\" class=\"sk-toggleable__label sk-toggleable__label-arrow\">SVC</label><div class=\"sk-toggleable__content\"><pre>SVC()</pre></div></div></div></div></div>"
      ],
      "text/plain": [
       "SVC()"
      ]
     },
     "execution_count": 62,
     "metadata": {},
     "output_type": "execute_result"
    }
   ],
   "source": [
    "# fitting the data with the model\n",
    "\n",
    "model.fit(X_train,y_train)"
   ]
  },
  {
   "cell_type": "code",
   "execution_count": 63,
   "id": "d44698ac",
   "metadata": {},
   "outputs": [],
   "source": [
    "svc_pred_train=model.predict(X_train)\n",
    "\n",
    "#predicting the model with train data"
   ]
  },
  {
   "cell_type": "code",
   "execution_count": 64,
   "id": "7814f3dd",
   "metadata": {},
   "outputs": [
    {
     "data": {
      "text/plain": [
       "array([0, 0, 0, 0, 0, 0, 0, 0, 0, 0, 0, 0, 0, 0, 0, 0, 0, 0, 0, 0, 0, 0,\n",
       "       0, 0, 0, 0, 0, 0, 0, 0, 0, 0, 0, 0, 0, 0, 0, 0, 0, 0, 0, 0, 0, 0,\n",
       "       0, 0, 0, 0, 0, 0, 0, 0, 0, 0, 0, 0, 0, 0, 0, 0, 0, 0, 0, 0, 0, 0,\n",
       "       0, 0, 0, 0, 0, 0, 0, 0, 0, 0, 0, 0, 0, 0, 0, 0, 0, 0, 0, 0, 0, 0,\n",
       "       0, 0, 0, 0, 0, 0, 0, 0, 0, 0, 0, 0, 0, 0, 0, 0, 0, 0, 0, 0, 0, 0,\n",
       "       0, 0, 0, 0, 0, 0, 0, 0, 0, 0, 0, 0, 0, 0, 0, 0, 0, 0, 0, 0, 0, 0,\n",
       "       0, 0, 0, 0, 0, 0, 0, 0, 0, 0, 0, 0, 0, 0, 0, 0, 0, 0, 0, 0, 0, 0,\n",
       "       0, 0, 0, 0, 0, 0, 0, 0, 0, 0, 0, 0, 0, 0, 0, 0, 0, 0, 0, 0, 0, 0,\n",
       "       0, 0, 0, 0, 0, 0, 0, 0, 0, 0, 0, 0, 0, 0, 0, 0, 0, 0, 0, 0, 0, 0,\n",
       "       0, 0, 0, 0, 0, 0, 0, 0, 0, 0, 0, 0, 0, 0, 0, 0, 0, 0, 0, 0, 0, 0,\n",
       "       0, 0, 0, 0, 0, 0, 0, 0, 0, 0, 0, 0, 0, 0, 0, 0, 0, 0, 0, 0, 0, 0,\n",
       "       0, 0, 0, 0, 0, 0, 0, 0, 0, 0, 0, 0, 0, 0, 0, 0, 0, 0, 0, 0, 0, 0,\n",
       "       0, 0, 0, 0, 0, 0, 0, 0, 0, 0, 0, 0, 0, 0, 0, 0, 0, 0, 0, 0, 0, 0,\n",
       "       0, 0, 0, 0, 0, 0, 0, 0, 0, 0, 0, 0, 0, 0, 0, 0, 0, 0, 0, 0, 0, 0,\n",
       "       0, 0, 0, 0, 0, 0, 0, 0, 0, 0, 0, 0, 0, 0, 0, 0, 0, 0, 0, 0, 0, 0,\n",
       "       0, 0, 0, 0, 0, 0, 0, 0, 0, 0, 0, 0, 0, 0, 0, 0, 0, 0, 0, 0, 0, 0,\n",
       "       0, 0, 0, 0, 0, 0, 0, 0, 0, 0, 0, 0, 0, 0, 0, 0, 0, 0, 0, 0, 0, 0,\n",
       "       0, 0, 0, 0, 0, 0, 0, 0, 0, 0], dtype=int64)"
      ]
     },
     "execution_count": 64,
     "metadata": {},
     "output_type": "execute_result"
    }
   ],
   "source": [
    "svc_pred_train"
   ]
  },
  {
   "cell_type": "code",
   "execution_count": 65,
   "id": "939cbbc9",
   "metadata": {},
   "outputs": [],
   "source": [
    "svc_pred=model.predict(X_test)\n",
    "\n",
    "#predicting the model with test data"
   ]
  },
  {
   "cell_type": "code",
   "execution_count": 66,
   "id": "825d3bcd",
   "metadata": {},
   "outputs": [
    {
     "data": {
      "text/plain": [
       "array([0, 0, 0, 0, 0, 0, 0, 0, 0, 0, 0, 0, 0, 0, 0, 0, 0, 0, 0, 0, 0, 0,\n",
       "       0, 0, 0, 0, 0, 0, 0, 0, 0, 0, 0, 0, 0, 0, 0, 0, 0, 0, 0, 0, 0, 0,\n",
       "       0, 0, 0, 0, 0, 0, 0, 0, 0, 0, 0, 0, 0, 0, 0, 0, 0, 0, 0, 0, 0, 0,\n",
       "       0, 0, 0, 0, 0, 0, 0, 0, 0, 0, 0, 0, 0, 0, 0, 0, 0, 0, 0, 0, 0, 0,\n",
       "       0, 0, 0, 0, 0, 0, 0, 0, 0, 0, 0, 0, 0, 0, 0, 0, 0, 0, 0, 0, 0, 0,\n",
       "       0, 0, 0, 0, 0, 0, 0, 0, 0, 0, 0, 0, 0, 0, 0, 0, 0, 0, 0, 0, 0, 0,\n",
       "       0, 0, 0, 0, 0, 0, 0, 0, 0, 0, 0, 0, 0, 0, 0, 0, 0, 0, 0, 0, 0, 0,\n",
       "       0, 0, 0, 0, 0, 0, 0, 0, 0, 0, 0, 0, 0, 0, 0, 0, 0, 0, 0, 0, 0, 0,\n",
       "       0, 0, 0, 0, 0, 0, 0, 0, 0, 0, 0, 0, 0, 0], dtype=int64)"
      ]
     },
     "execution_count": 66,
     "metadata": {},
     "output_type": "execute_result"
    }
   ],
   "source": [
    "svc_pred"
   ]
  },
  {
   "cell_type": "code",
   "execution_count": 67,
   "id": "039f89d6",
   "metadata": {},
   "outputs": [
    {
     "name": "stdout",
     "output_type": "stream",
     "text": [
      "[[144   0]\n",
      " [ 46   0]]\n"
     ]
    }
   ],
   "source": [
    "# confusion matrix of the model\n",
    "\n",
    "print(confusion_matrix(y_test,svc_pred))"
   ]
  },
  {
   "cell_type": "code",
   "execution_count": 68,
   "id": "dcf14820",
   "metadata": {},
   "outputs": [
    {
     "data": {
      "text/html": [
       "<div>\n",
       "<style scoped>\n",
       "    .dataframe tbody tr th:only-of-type {\n",
       "        vertical-align: middle;\n",
       "    }\n",
       "\n",
       "    .dataframe tbody tr th {\n",
       "        vertical-align: top;\n",
       "    }\n",
       "\n",
       "    .dataframe thead th {\n",
       "        text-align: right;\n",
       "    }\n",
       "</style>\n",
       "<table border=\"1\" class=\"dataframe\">\n",
       "  <thead>\n",
       "    <tr style=\"text-align: right;\">\n",
       "      <th></th>\n",
       "      <th>0</th>\n",
       "      <th>1</th>\n",
       "      <th>accuracy</th>\n",
       "      <th>macro avg</th>\n",
       "      <th>weighted avg</th>\n",
       "    </tr>\n",
       "  </thead>\n",
       "  <tbody>\n",
       "    <tr>\n",
       "      <th>precision</th>\n",
       "      <td>0.760417</td>\n",
       "      <td>0.0</td>\n",
       "      <td>0.760417</td>\n",
       "      <td>0.380208</td>\n",
       "      <td>0.578234</td>\n",
       "    </tr>\n",
       "    <tr>\n",
       "      <th>recall</th>\n",
       "      <td>1.000000</td>\n",
       "      <td>0.0</td>\n",
       "      <td>0.760417</td>\n",
       "      <td>0.500000</td>\n",
       "      <td>0.760417</td>\n",
       "    </tr>\n",
       "    <tr>\n",
       "      <th>f1-score</th>\n",
       "      <td>0.863905</td>\n",
       "      <td>0.0</td>\n",
       "      <td>0.760417</td>\n",
       "      <td>0.431953</td>\n",
       "      <td>0.656928</td>\n",
       "    </tr>\n",
       "    <tr>\n",
       "      <th>support</th>\n",
       "      <td>292.000000</td>\n",
       "      <td>92.0</td>\n",
       "      <td>0.760417</td>\n",
       "      <td>384.000000</td>\n",
       "      <td>384.000000</td>\n",
       "    </tr>\n",
       "  </tbody>\n",
       "</table>\n",
       "</div>"
      ],
      "text/plain": [
       "                    0     1  accuracy   macro avg  weighted avg\n",
       "precision    0.760417   0.0  0.760417    0.380208      0.578234\n",
       "recall       1.000000   0.0  0.760417    0.500000      0.760417\n",
       "f1-score     0.863905   0.0  0.760417    0.431953      0.656928\n",
       "support    292.000000  92.0  0.760417  384.000000    384.000000"
      ]
     },
     "execution_count": 68,
     "metadata": {},
     "output_type": "execute_result"
    }
   ],
   "source": [
    "# classification report of the model with train data\n",
    "\n",
    "pd.DataFrame(classification_report(y_train,svc_pred_train,output_dict=True))"
   ]
  },
  {
   "cell_type": "code",
   "execution_count": 69,
   "id": "cb9cd689",
   "metadata": {
    "scrolled": true
   },
   "outputs": [
    {
     "data": {
      "text/html": [
       "<div>\n",
       "<style scoped>\n",
       "    .dataframe tbody tr th:only-of-type {\n",
       "        vertical-align: middle;\n",
       "    }\n",
       "\n",
       "    .dataframe tbody tr th {\n",
       "        vertical-align: top;\n",
       "    }\n",
       "\n",
       "    .dataframe thead th {\n",
       "        text-align: right;\n",
       "    }\n",
       "</style>\n",
       "<table border=\"1\" class=\"dataframe\">\n",
       "  <thead>\n",
       "    <tr style=\"text-align: right;\">\n",
       "      <th></th>\n",
       "      <th>0</th>\n",
       "      <th>1</th>\n",
       "      <th>accuracy</th>\n",
       "      <th>macro avg</th>\n",
       "      <th>weighted avg</th>\n",
       "    </tr>\n",
       "  </thead>\n",
       "  <tbody>\n",
       "    <tr>\n",
       "      <th>precision</th>\n",
       "      <td>0.757895</td>\n",
       "      <td>0.0</td>\n",
       "      <td>0.757895</td>\n",
       "      <td>0.378947</td>\n",
       "      <td>0.574404</td>\n",
       "    </tr>\n",
       "    <tr>\n",
       "      <th>recall</th>\n",
       "      <td>1.000000</td>\n",
       "      <td>0.0</td>\n",
       "      <td>0.757895</td>\n",
       "      <td>0.500000</td>\n",
       "      <td>0.757895</td>\n",
       "    </tr>\n",
       "    <tr>\n",
       "      <th>f1-score</th>\n",
       "      <td>0.862275</td>\n",
       "      <td>0.0</td>\n",
       "      <td>0.757895</td>\n",
       "      <td>0.431138</td>\n",
       "      <td>0.653514</td>\n",
       "    </tr>\n",
       "    <tr>\n",
       "      <th>support</th>\n",
       "      <td>144.000000</td>\n",
       "      <td>46.0</td>\n",
       "      <td>0.757895</td>\n",
       "      <td>190.000000</td>\n",
       "      <td>190.000000</td>\n",
       "    </tr>\n",
       "  </tbody>\n",
       "</table>\n",
       "</div>"
      ],
      "text/plain": [
       "                    0     1  accuracy   macro avg  weighted avg\n",
       "precision    0.757895   0.0  0.757895    0.378947      0.574404\n",
       "recall       1.000000   0.0  0.757895    0.500000      0.757895\n",
       "f1-score     0.862275   0.0  0.757895    0.431138      0.653514\n",
       "support    144.000000  46.0  0.757895  190.000000    190.000000"
      ]
     },
     "execution_count": 69,
     "metadata": {},
     "output_type": "execute_result"
    }
   ],
   "source": [
    "# classification report of the model\n",
    "\n",
    "pd.DataFrame(classification_report(y_test,svc_pred,output_dict=True))"
   ]
  },
  {
   "cell_type": "code",
   "execution_count": 70,
   "id": "56308c30",
   "metadata": {},
   "outputs": [
    {
     "data": {
      "text/plain": [
       "0.7604166666666666"
      ]
     },
     "execution_count": 70,
     "metadata": {},
     "output_type": "execute_result"
    }
   ],
   "source": [
    "accuracy_score(svc_pred_train,y_train)\n",
    "\n",
    "#Checking for the accuracy of train data"
   ]
  },
  {
   "cell_type": "code",
   "execution_count": 71,
   "id": "9baabb32",
   "metadata": {},
   "outputs": [
    {
     "data": {
      "text/plain": [
       "0.7578947368421053"
      ]
     },
     "execution_count": 71,
     "metadata": {},
     "output_type": "execute_result"
    }
   ],
   "source": [
    "accuracy_score(svc_pred,y_test)\n",
    "\n",
    "#Checking for the accuracy of test data"
   ]
  },
  {
   "cell_type": "markdown",
   "id": "35599876",
   "metadata": {},
   "source": [
    " ##### ✔️ With test data, we achieved an accuracy of 75%, and with training data, we achieved an accuracy of  76%  in Support Vector Machine - Classifier"
   ]
  },
  {
   "cell_type": "code",
   "execution_count": 72,
   "id": "b93eded1",
   "metadata": {},
   "outputs": [],
   "source": [
    "parameter={\n",
    "      \"C\":[0,1,2,3,4,5,6,7,8,9,10],#C=regularization parameter,\n",
    "  'gamma':[1,0.1,0.01,0.001,0.0001]\n",
    "}"
   ]
  },
  {
   "cell_type": "code",
   "execution_count": 73,
   "id": "638b6639",
   "metadata": {},
   "outputs": [],
   "source": [
    "svc=SVC(kernel='rbf')\n",
    "cv=GridSearchCV(svc,parameter,verbose=3,)"
   ]
  },
  {
   "cell_type": "code",
   "execution_count": 74,
   "id": "d87bd1a7",
   "metadata": {},
   "outputs": [
    {
     "name": "stdout",
     "output_type": "stream",
     "text": [
      "Fitting 5 folds for each of 55 candidates, totalling 275 fits\n",
      "[CV 1/5] END ........................C=0, gamma=1;, score=nan total time=   0.0s\n",
      "[CV 2/5] END ........................C=0, gamma=1;, score=nan total time=   0.0s\n",
      "[CV 3/5] END ........................C=0, gamma=1;, score=nan total time=   0.0s\n",
      "[CV 4/5] END ........................C=0, gamma=1;, score=nan total time=   0.0s\n",
      "[CV 5/5] END ........................C=0, gamma=1;, score=nan total time=   0.0s\n",
      "[CV 1/5] END ......................C=0, gamma=0.1;, score=nan total time=   0.0s\n",
      "[CV 2/5] END ......................C=0, gamma=0.1;, score=nan total time=   0.0s\n",
      "[CV 3/5] END ......................C=0, gamma=0.1;, score=nan total time=   0.0s\n",
      "[CV 4/5] END ......................C=0, gamma=0.1;, score=nan total time=   0.0s\n",
      "[CV 5/5] END ......................C=0, gamma=0.1;, score=nan total time=   0.0s\n",
      "[CV 1/5] END .....................C=0, gamma=0.01;, score=nan total time=   0.0s\n",
      "[CV 2/5] END .....................C=0, gamma=0.01;, score=nan total time=   0.0s\n",
      "[CV 3/5] END .....................C=0, gamma=0.01;, score=nan total time=   0.0s\n",
      "[CV 4/5] END .....................C=0, gamma=0.01;, score=nan total time=   0.0s\n",
      "[CV 5/5] END .....................C=0, gamma=0.01;, score=nan total time=   0.0s\n",
      "[CV 1/5] END ....................C=0, gamma=0.001;, score=nan total time=   0.0s\n",
      "[CV 2/5] END ....................C=0, gamma=0.001;, score=nan total time=   0.0s\n",
      "[CV 3/5] END ....................C=0, gamma=0.001;, score=nan total time=   0.0s\n",
      "[CV 4/5] END ....................C=0, gamma=0.001;, score=nan total time=   0.0s\n",
      "[CV 5/5] END ....................C=0, gamma=0.001;, score=nan total time=   0.0s\n",
      "[CV 1/5] END ...................C=0, gamma=0.0001;, score=nan total time=   0.0s\n",
      "[CV 2/5] END ...................C=0, gamma=0.0001;, score=nan total time=   0.0s\n",
      "[CV 3/5] END ...................C=0, gamma=0.0001;, score=nan total time=   0.0s\n",
      "[CV 4/5] END ...................C=0, gamma=0.0001;, score=nan total time=   0.0s\n",
      "[CV 5/5] END ...................C=0, gamma=0.0001;, score=nan total time=   0.0s\n",
      "[CV 1/5] END ......................C=1, gamma=1;, score=0.779 total time=   0.0s\n",
      "[CV 2/5] END ......................C=1, gamma=1;, score=0.753 total time=   0.0s\n",
      "[CV 3/5] END ......................C=1, gamma=1;, score=0.753 total time=   0.0s\n",
      "[CV 4/5] END ......................C=1, gamma=1;, score=0.753 total time=   0.0s\n",
      "[CV 5/5] END ......................C=1, gamma=1;, score=0.750 total time=   0.0s\n",
      "[CV 1/5] END ....................C=1, gamma=0.1;, score=0.779 total time=   0.0s\n",
      "[CV 2/5] END ....................C=1, gamma=0.1;, score=0.753 total time=   0.0s\n",
      "[CV 3/5] END ....................C=1, gamma=0.1;, score=0.740 total time=   0.0s\n",
      "[CV 4/5] END ....................C=1, gamma=0.1;, score=0.792 total time=   0.0s\n",
      "[CV 5/5] END ....................C=1, gamma=0.1;, score=0.789 total time=   0.0s\n",
      "[CV 1/5] END ...................C=1, gamma=0.01;, score=0.831 total time=   0.0s\n",
      "[CV 2/5] END ...................C=1, gamma=0.01;, score=0.727 total time=   0.0s\n",
      "[CV 3/5] END ...................C=1, gamma=0.01;, score=0.740 total time=   0.0s\n",
      "[CV 4/5] END ...................C=1, gamma=0.01;, score=0.753 total time=   0.0s\n",
      "[CV 5/5] END ...................C=1, gamma=0.01;, score=0.803 total time=   0.0s\n",
      "[CV 1/5] END ..................C=1, gamma=0.001;, score=0.766 total time=   0.0s\n",
      "[CV 2/5] END ..................C=1, gamma=0.001;, score=0.714 total time=   0.0s\n",
      "[CV 3/5] END ..................C=1, gamma=0.001;, score=0.766 total time=   0.0s\n",
      "[CV 4/5] END ..................C=1, gamma=0.001;, score=0.727 total time=   0.0s\n",
      "[CV 5/5] END ..................C=1, gamma=0.001;, score=0.750 total time=   0.0s\n",
      "[CV 1/5] END .................C=1, gamma=0.0001;, score=0.766 total time=   0.0s\n",
      "[CV 2/5] END .................C=1, gamma=0.0001;, score=0.714 total time=   0.0s\n",
      "[CV 3/5] END .................C=1, gamma=0.0001;, score=0.766 total time=   0.0s\n",
      "[CV 4/5] END .................C=1, gamma=0.0001;, score=0.688 total time=   0.0s\n",
      "[CV 5/5] END .................C=1, gamma=0.0001;, score=0.763 total time=   0.0s\n",
      "[CV 1/5] END ......................C=2, gamma=1;, score=0.779 total time=   0.0s\n",
      "[CV 2/5] END ......................C=2, gamma=1;, score=0.753 total time=   0.0s\n",
      "[CV 3/5] END ......................C=2, gamma=1;, score=0.753 total time=   0.0s\n",
      "[CV 4/5] END ......................C=2, gamma=1;, score=0.779 total time=   0.0s\n",
      "[CV 5/5] END ......................C=2, gamma=1;, score=0.789 total time=   0.0s\n",
      "[CV 1/5] END ....................C=2, gamma=0.1;, score=0.805 total time=   0.0s\n",
      "[CV 2/5] END ....................C=2, gamma=0.1;, score=0.753 total time=   0.0s\n",
      "[CV 3/5] END ....................C=2, gamma=0.1;, score=0.701 total time=   0.0s\n",
      "[CV 4/5] END ....................C=2, gamma=0.1;, score=0.714 total time=   0.0s\n",
      "[CV 5/5] END ....................C=2, gamma=0.1;, score=0.776 total time=   0.0s\n",
      "[CV 1/5] END ...................C=2, gamma=0.01;, score=0.792 total time=   0.0s\n",
      "[CV 2/5] END ...................C=2, gamma=0.01;, score=0.714 total time=   0.0s\n",
      "[CV 3/5] END ...................C=2, gamma=0.01;, score=0.740 total time=   0.0s\n",
      "[CV 4/5] END ...................C=2, gamma=0.01;, score=0.753 total time=   0.0s\n",
      "[CV 5/5] END ...................C=2, gamma=0.01;, score=0.776 total time=   0.0s\n",
      "[CV 1/5] END ..................C=2, gamma=0.001;, score=0.766 total time=   0.0s\n",
      "[CV 2/5] END ..................C=2, gamma=0.001;, score=0.714 total time=   0.0s\n",
      "[CV 3/5] END ..................C=2, gamma=0.001;, score=0.766 total time=   0.0s\n",
      "[CV 4/5] END ..................C=2, gamma=0.001;, score=0.740 total time=   0.0s\n",
      "[CV 5/5] END ..................C=2, gamma=0.001;, score=0.763 total time=   0.0s\n",
      "[CV 1/5] END .................C=2, gamma=0.0001;, score=0.766 total time=   0.0s\n",
      "[CV 2/5] END .................C=2, gamma=0.0001;, score=0.688 total time=   0.0s\n",
      "[CV 3/5] END .................C=2, gamma=0.0001;, score=0.766 total time=   0.0s\n",
      "[CV 4/5] END .................C=2, gamma=0.0001;, score=0.662 total time=   0.0s\n",
      "[CV 5/5] END .................C=2, gamma=0.0001;, score=0.750 total time=   0.0s\n",
      "[CV 1/5] END ......................C=3, gamma=1;, score=0.779 total time=   0.0s\n",
      "[CV 2/5] END ......................C=3, gamma=1;, score=0.753 total time=   0.0s\n",
      "[CV 3/5] END ......................C=3, gamma=1;, score=0.753 total time=   0.0s\n",
      "[CV 4/5] END ......................C=3, gamma=1;, score=0.779 total time=   0.0s\n",
      "[CV 5/5] END ......................C=3, gamma=1;, score=0.789 total time=   0.0s\n",
      "[CV 1/5] END ....................C=3, gamma=0.1;, score=0.792 total time=   0.0s\n",
      "[CV 2/5] END ....................C=3, gamma=0.1;, score=0.740 total time=   0.0s\n",
      "[CV 3/5] END ....................C=3, gamma=0.1;, score=0.714 total time=   0.0s\n",
      "[CV 4/5] END ....................C=3, gamma=0.1;, score=0.714 total time=   0.0s\n",
      "[CV 5/5] END ....................C=3, gamma=0.1;, score=0.776 total time=   0.0s\n",
      "[CV 1/5] END ...................C=3, gamma=0.01;, score=0.779 total time=   0.0s\n",
      "[CV 2/5] END ...................C=3, gamma=0.01;, score=0.714 total time=   0.0s\n",
      "[CV 3/5] END ...................C=3, gamma=0.01;, score=0.727 total time=   0.0s\n",
      "[CV 4/5] END ...................C=3, gamma=0.01;, score=0.753 total time=   0.0s\n",
      "[CV 5/5] END ...................C=3, gamma=0.01;, score=0.789 total time=   0.0s\n",
      "[CV 1/5] END ..................C=3, gamma=0.001;, score=0.766 total time=   0.0s\n",
      "[CV 2/5] END ..................C=3, gamma=0.001;, score=0.714 total time=   0.0s\n",
      "[CV 3/5] END ..................C=3, gamma=0.001;, score=0.779 total time=   0.0s\n",
      "[CV 4/5] END ..................C=3, gamma=0.001;, score=0.740 total time=   0.0s\n",
      "[CV 5/5] END ..................C=3, gamma=0.001;, score=0.763 total time=   0.0s\n",
      "[CV 1/5] END .................C=3, gamma=0.0001;, score=0.766 total time=   0.0s\n",
      "[CV 2/5] END .................C=3, gamma=0.0001;, score=0.688 total time=   0.0s\n",
      "[CV 3/5] END .................C=3, gamma=0.0001;, score=0.766 total time=   0.0s\n",
      "[CV 4/5] END .................C=3, gamma=0.0001;, score=0.675 total time=   0.0s\n",
      "[CV 5/5] END .................C=3, gamma=0.0001;, score=0.737 total time=   0.0s\n",
      "[CV 1/5] END ......................C=4, gamma=1;, score=0.779 total time=   0.0s\n",
      "[CV 2/5] END ......................C=4, gamma=1;, score=0.753 total time=   0.0s\n",
      "[CV 3/5] END ......................C=4, gamma=1;, score=0.753 total time=   0.0s\n",
      "[CV 4/5] END ......................C=4, gamma=1;, score=0.779 total time=   0.0s\n",
      "[CV 5/5] END ......................C=4, gamma=1;, score=0.789 total time=   0.0s\n",
      "[CV 1/5] END ....................C=4, gamma=0.1;, score=0.792 total time=   0.0s\n",
      "[CV 2/5] END ....................C=4, gamma=0.1;, score=0.740 total time=   0.0s\n",
      "[CV 3/5] END ....................C=4, gamma=0.1;, score=0.714 total time=   0.0s\n",
      "[CV 4/5] END ....................C=4, gamma=0.1;, score=0.714 total time=   0.0s\n",
      "[CV 5/5] END ....................C=4, gamma=0.1;, score=0.776 total time=   0.0s\n"
     ]
    },
    {
     "name": "stdout",
     "output_type": "stream",
     "text": [
      "[CV 1/5] END ...................C=4, gamma=0.01;, score=0.779 total time=   0.0s\n",
      "[CV 2/5] END ...................C=4, gamma=0.01;, score=0.714 total time=   0.0s\n",
      "[CV 3/5] END ...................C=4, gamma=0.01;, score=0.727 total time=   0.0s\n",
      "[CV 4/5] END ...................C=4, gamma=0.01;, score=0.753 total time=   0.0s\n",
      "[CV 5/5] END ...................C=4, gamma=0.01;, score=0.789 total time=   0.0s\n",
      "[CV 1/5] END ..................C=4, gamma=0.001;, score=0.779 total time=   0.0s\n",
      "[CV 2/5] END ..................C=4, gamma=0.001;, score=0.714 total time=   0.0s\n",
      "[CV 3/5] END ..................C=4, gamma=0.001;, score=0.779 total time=   0.0s\n",
      "[CV 4/5] END ..................C=4, gamma=0.001;, score=0.766 total time=   0.0s\n",
      "[CV 5/5] END ..................C=4, gamma=0.001;, score=0.763 total time=   0.0s\n",
      "[CV 1/5] END .................C=4, gamma=0.0001;, score=0.766 total time=   0.0s\n",
      "[CV 2/5] END .................C=4, gamma=0.0001;, score=0.688 total time=   0.0s\n",
      "[CV 3/5] END .................C=4, gamma=0.0001;, score=0.766 total time=   0.0s\n",
      "[CV 4/5] END .................C=4, gamma=0.0001;, score=0.662 total time=   0.0s\n",
      "[CV 5/5] END .................C=4, gamma=0.0001;, score=0.737 total time=   0.0s\n",
      "[CV 1/5] END ......................C=5, gamma=1;, score=0.779 total time=   0.0s\n",
      "[CV 2/5] END ......................C=5, gamma=1;, score=0.753 total time=   0.0s\n",
      "[CV 3/5] END ......................C=5, gamma=1;, score=0.753 total time=   0.0s\n",
      "[CV 4/5] END ......................C=5, gamma=1;, score=0.779 total time=   0.0s\n",
      "[CV 5/5] END ......................C=5, gamma=1;, score=0.789 total time=   0.0s\n",
      "[CV 1/5] END ....................C=5, gamma=0.1;, score=0.792 total time=   0.0s\n",
      "[CV 2/5] END ....................C=5, gamma=0.1;, score=0.740 total time=   0.0s\n",
      "[CV 3/5] END ....................C=5, gamma=0.1;, score=0.714 total time=   0.0s\n",
      "[CV 4/5] END ....................C=5, gamma=0.1;, score=0.714 total time=   0.0s\n",
      "[CV 5/5] END ....................C=5, gamma=0.1;, score=0.776 total time=   0.0s\n",
      "[CV 1/5] END ...................C=5, gamma=0.01;, score=0.779 total time=   0.0s\n",
      "[CV 2/5] END ...................C=5, gamma=0.01;, score=0.714 total time=   0.0s\n",
      "[CV 3/5] END ...................C=5, gamma=0.01;, score=0.727 total time=   0.0s\n",
      "[CV 4/5] END ...................C=5, gamma=0.01;, score=0.727 total time=   0.0s\n",
      "[CV 5/5] END ...................C=5, gamma=0.01;, score=0.776 total time=   0.0s\n",
      "[CV 1/5] END ..................C=5, gamma=0.001;, score=0.792 total time=   0.0s\n",
      "[CV 2/5] END ..................C=5, gamma=0.001;, score=0.727 total time=   0.0s\n",
      "[CV 3/5] END ..................C=5, gamma=0.001;, score=0.779 total time=   0.0s\n",
      "[CV 4/5] END ..................C=5, gamma=0.001;, score=0.766 total time=   0.0s\n",
      "[CV 5/5] END ..................C=5, gamma=0.001;, score=0.776 total time=   0.0s\n",
      "[CV 1/5] END .................C=5, gamma=0.0001;, score=0.766 total time=   0.0s\n",
      "[CV 2/5] END .................C=5, gamma=0.0001;, score=0.688 total time=   0.0s\n",
      "[CV 3/5] END .................C=5, gamma=0.0001;, score=0.766 total time=   0.0s\n",
      "[CV 4/5] END .................C=5, gamma=0.0001;, score=0.675 total time=   0.0s\n",
      "[CV 5/5] END .................C=5, gamma=0.0001;, score=0.737 total time=   0.0s\n",
      "[CV 1/5] END ......................C=6, gamma=1;, score=0.779 total time=   0.0s\n",
      "[CV 2/5] END ......................C=6, gamma=1;, score=0.753 total time=   0.0s\n",
      "[CV 3/5] END ......................C=6, gamma=1;, score=0.753 total time=   0.0s\n",
      "[CV 4/5] END ......................C=6, gamma=1;, score=0.779 total time=   0.0s\n",
      "[CV 5/5] END ......................C=6, gamma=1;, score=0.789 total time=   0.0s\n",
      "[CV 1/5] END ....................C=6, gamma=0.1;, score=0.792 total time=   0.0s\n",
      "[CV 2/5] END ....................C=6, gamma=0.1;, score=0.740 total time=   0.0s\n",
      "[CV 3/5] END ....................C=6, gamma=0.1;, score=0.714 total time=   0.0s\n",
      "[CV 4/5] END ....................C=6, gamma=0.1;, score=0.714 total time=   0.0s\n",
      "[CV 5/5] END ....................C=6, gamma=0.1;, score=0.776 total time=   0.0s\n",
      "[CV 1/5] END ...................C=6, gamma=0.01;, score=0.779 total time=   0.0s\n",
      "[CV 2/5] END ...................C=6, gamma=0.01;, score=0.701 total time=   0.0s\n",
      "[CV 3/5] END ...................C=6, gamma=0.01;, score=0.753 total time=   0.0s\n",
      "[CV 4/5] END ...................C=6, gamma=0.01;, score=0.714 total time=   0.0s\n",
      "[CV 5/5] END ...................C=6, gamma=0.01;, score=0.776 total time=   0.0s\n",
      "[CV 1/5] END ..................C=6, gamma=0.001;, score=0.805 total time=   0.0s\n",
      "[CV 2/5] END ..................C=6, gamma=0.001;, score=0.727 total time=   0.0s\n",
      "[CV 3/5] END ..................C=6, gamma=0.001;, score=0.779 total time=   0.0s\n",
      "[CV 4/5] END ..................C=6, gamma=0.001;, score=0.779 total time=   0.0s\n",
      "[CV 5/5] END ..................C=6, gamma=0.001;, score=0.776 total time=   0.0s\n",
      "[CV 1/5] END .................C=6, gamma=0.0001;, score=0.766 total time=   0.0s\n",
      "[CV 2/5] END .................C=6, gamma=0.0001;, score=0.688 total time=   0.0s\n",
      "[CV 3/5] END .................C=6, gamma=0.0001;, score=0.753 total time=   0.0s\n",
      "[CV 4/5] END .................C=6, gamma=0.0001;, score=0.675 total time=   0.0s\n",
      "[CV 5/5] END .................C=6, gamma=0.0001;, score=0.737 total time=   0.0s\n",
      "[CV 1/5] END ......................C=7, gamma=1;, score=0.779 total time=   0.0s\n",
      "[CV 2/5] END ......................C=7, gamma=1;, score=0.753 total time=   0.0s\n",
      "[CV 3/5] END ......................C=7, gamma=1;, score=0.753 total time=   0.0s\n",
      "[CV 4/5] END ......................C=7, gamma=1;, score=0.779 total time=   0.0s\n",
      "[CV 5/5] END ......................C=7, gamma=1;, score=0.789 total time=   0.0s\n",
      "[CV 1/5] END ....................C=7, gamma=0.1;, score=0.792 total time=   0.0s\n",
      "[CV 2/5] END ....................C=7, gamma=0.1;, score=0.740 total time=   0.0s\n",
      "[CV 3/5] END ....................C=7, gamma=0.1;, score=0.714 total time=   0.0s\n",
      "[CV 4/5] END ....................C=7, gamma=0.1;, score=0.701 total time=   0.0s\n",
      "[CV 5/5] END ....................C=7, gamma=0.1;, score=0.776 total time=   0.0s\n",
      "[CV 1/5] END ...................C=7, gamma=0.01;, score=0.779 total time=   0.0s\n",
      "[CV 2/5] END ...................C=7, gamma=0.01;, score=0.701 total time=   0.0s\n",
      "[CV 3/5] END ...................C=7, gamma=0.01;, score=0.753 total time=   0.0s\n",
      "[CV 4/5] END ...................C=7, gamma=0.01;, score=0.714 total time=   0.0s\n",
      "[CV 5/5] END ...................C=7, gamma=0.01;, score=0.776 total time=   0.0s\n",
      "[CV 1/5] END ..................C=7, gamma=0.001;, score=0.792 total time=   0.0s\n",
      "[CV 2/5] END ..................C=7, gamma=0.001;, score=0.727 total time=   0.0s\n",
      "[CV 3/5] END ..................C=7, gamma=0.001;, score=0.779 total time=   0.0s\n",
      "[CV 4/5] END ..................C=7, gamma=0.001;, score=0.766 total time=   0.0s\n",
      "[CV 5/5] END ..................C=7, gamma=0.001;, score=0.776 total time=   0.0s\n",
      "[CV 1/5] END .................C=7, gamma=0.0001;, score=0.766 total time=   0.0s\n",
      "[CV 2/5] END .................C=7, gamma=0.0001;, score=0.688 total time=   0.0s\n",
      "[CV 3/5] END .................C=7, gamma=0.0001;, score=0.740 total time=   0.0s\n",
      "[CV 4/5] END .................C=7, gamma=0.0001;, score=0.701 total time=   0.0s\n",
      "[CV 5/5] END .................C=7, gamma=0.0001;, score=0.737 total time=   0.0s\n",
      "[CV 1/5] END ......................C=8, gamma=1;, score=0.779 total time=   0.0s\n",
      "[CV 2/5] END ......................C=8, gamma=1;, score=0.753 total time=   0.0s\n",
      "[CV 3/5] END ......................C=8, gamma=1;, score=0.753 total time=   0.0s\n",
      "[CV 4/5] END ......................C=8, gamma=1;, score=0.779 total time=   0.0s\n",
      "[CV 5/5] END ......................C=8, gamma=1;, score=0.789 total time=   0.0s\n",
      "[CV 1/5] END ....................C=8, gamma=0.1;, score=0.792 total time=   0.0s\n",
      "[CV 2/5] END ....................C=8, gamma=0.1;, score=0.740 total time=   0.0s\n",
      "[CV 3/5] END ....................C=8, gamma=0.1;, score=0.714 total time=   0.0s\n",
      "[CV 4/5] END ....................C=8, gamma=0.1;, score=0.701 total time=   0.0s\n",
      "[CV 5/5] END ....................C=8, gamma=0.1;, score=0.776 total time=   0.0s\n",
      "[CV 1/5] END ...................C=8, gamma=0.01;, score=0.779 total time=   0.0s\n",
      "[CV 2/5] END ...................C=8, gamma=0.01;, score=0.714 total time=   0.0s\n",
      "[CV 3/5] END ...................C=8, gamma=0.01;, score=0.740 total time=   0.0s\n",
      "[CV 4/5] END ...................C=8, gamma=0.01;, score=0.714 total time=   0.0s\n"
     ]
    },
    {
     "name": "stdout",
     "output_type": "stream",
     "text": [
      "[CV 5/5] END ...................C=8, gamma=0.01;, score=0.776 total time=   0.0s\n",
      "[CV 1/5] END ..................C=8, gamma=0.001;, score=0.792 total time=   0.0s\n",
      "[CV 2/5] END ..................C=8, gamma=0.001;, score=0.727 total time=   0.0s\n",
      "[CV 3/5] END ..................C=8, gamma=0.001;, score=0.779 total time=   0.0s\n",
      "[CV 4/5] END ..................C=8, gamma=0.001;, score=0.766 total time=   0.0s\n",
      "[CV 5/5] END ..................C=8, gamma=0.001;, score=0.776 total time=   0.0s\n",
      "[CV 1/5] END .................C=8, gamma=0.0001;, score=0.753 total time=   0.0s\n",
      "[CV 2/5] END .................C=8, gamma=0.0001;, score=0.688 total time=   0.0s\n",
      "[CV 3/5] END .................C=8, gamma=0.0001;, score=0.753 total time=   0.0s\n",
      "[CV 4/5] END .................C=8, gamma=0.0001;, score=0.688 total time=   0.0s\n",
      "[CV 5/5] END .................C=8, gamma=0.0001;, score=0.737 total time=   0.0s\n",
      "[CV 1/5] END ......................C=9, gamma=1;, score=0.779 total time=   0.0s\n",
      "[CV 2/5] END ......................C=9, gamma=1;, score=0.753 total time=   0.0s\n",
      "[CV 3/5] END ......................C=9, gamma=1;, score=0.753 total time=   0.0s\n",
      "[CV 4/5] END ......................C=9, gamma=1;, score=0.779 total time=   0.0s\n",
      "[CV 5/5] END ......................C=9, gamma=1;, score=0.789 total time=   0.0s\n",
      "[CV 1/5] END ....................C=9, gamma=0.1;, score=0.792 total time=   0.0s\n",
      "[CV 2/5] END ....................C=9, gamma=0.1;, score=0.740 total time=   0.0s\n",
      "[CV 3/5] END ....................C=9, gamma=0.1;, score=0.714 total time=   0.0s\n",
      "[CV 4/5] END ....................C=9, gamma=0.1;, score=0.701 total time=   0.0s\n",
      "[CV 5/5] END ....................C=9, gamma=0.1;, score=0.776 total time=   0.0s\n",
      "[CV 1/5] END ...................C=9, gamma=0.01;, score=0.792 total time=   0.0s\n",
      "[CV 2/5] END ...................C=9, gamma=0.01;, score=0.714 total time=   0.0s\n",
      "[CV 3/5] END ...................C=9, gamma=0.01;, score=0.740 total time=   0.0s\n",
      "[CV 4/5] END ...................C=9, gamma=0.01;, score=0.714 total time=   0.0s\n",
      "[CV 5/5] END ...................C=9, gamma=0.01;, score=0.750 total time=   0.0s\n",
      "[CV 1/5] END ..................C=9, gamma=0.001;, score=0.792 total time=   0.0s\n",
      "[CV 2/5] END ..................C=9, gamma=0.001;, score=0.727 total time=   0.0s\n",
      "[CV 3/5] END ..................C=9, gamma=0.001;, score=0.766 total time=   0.0s\n",
      "[CV 4/5] END ..................C=9, gamma=0.001;, score=0.766 total time=   0.0s\n",
      "[CV 5/5] END ..................C=9, gamma=0.001;, score=0.776 total time=   0.0s\n",
      "[CV 1/5] END .................C=9, gamma=0.0001;, score=0.753 total time=   0.0s\n",
      "[CV 2/5] END .................C=9, gamma=0.0001;, score=0.688 total time=   0.0s\n",
      "[CV 3/5] END .................C=9, gamma=0.0001;, score=0.753 total time=   0.0s\n",
      "[CV 4/5] END .................C=9, gamma=0.0001;, score=0.714 total time=   0.0s\n",
      "[CV 5/5] END .................C=9, gamma=0.0001;, score=0.737 total time=   0.0s\n",
      "[CV 1/5] END .....................C=10, gamma=1;, score=0.779 total time=   0.0s\n",
      "[CV 2/5] END .....................C=10, gamma=1;, score=0.753 total time=   0.0s\n",
      "[CV 3/5] END .....................C=10, gamma=1;, score=0.753 total time=   0.0s\n",
      "[CV 4/5] END .....................C=10, gamma=1;, score=0.779 total time=   0.0s\n",
      "[CV 5/5] END .....................C=10, gamma=1;, score=0.789 total time=   0.0s\n",
      "[CV 1/5] END ...................C=10, gamma=0.1;, score=0.792 total time=   0.0s\n",
      "[CV 2/5] END ...................C=10, gamma=0.1;, score=0.740 total time=   0.0s\n",
      "[CV 3/5] END ...................C=10, gamma=0.1;, score=0.714 total time=   0.0s\n",
      "[CV 4/5] END ...................C=10, gamma=0.1;, score=0.701 total time=   0.0s\n",
      "[CV 5/5] END ...................C=10, gamma=0.1;, score=0.776 total time=   0.0s\n",
      "[CV 1/5] END ..................C=10, gamma=0.01;, score=0.792 total time=   0.0s\n",
      "[CV 2/5] END ..................C=10, gamma=0.01;, score=0.714 total time=   0.0s\n",
      "[CV 3/5] END ..................C=10, gamma=0.01;, score=0.740 total time=   0.0s\n",
      "[CV 4/5] END ..................C=10, gamma=0.01;, score=0.714 total time=   0.0s\n",
      "[CV 5/5] END ..................C=10, gamma=0.01;, score=0.750 total time=   0.0s\n",
      "[CV 1/5] END .................C=10, gamma=0.001;, score=0.792 total time=   0.0s\n",
      "[CV 2/5] END .................C=10, gamma=0.001;, score=0.727 total time=   0.0s\n",
      "[CV 3/5] END .................C=10, gamma=0.001;, score=0.766 total time=   0.0s\n",
      "[CV 4/5] END .................C=10, gamma=0.001;, score=0.766 total time=   0.0s\n",
      "[CV 5/5] END .................C=10, gamma=0.001;, score=0.776 total time=   0.0s\n",
      "[CV 1/5] END ................C=10, gamma=0.0001;, score=0.740 total time=   0.0s\n",
      "[CV 2/5] END ................C=10, gamma=0.0001;, score=0.688 total time=   0.0s\n",
      "[CV 3/5] END ................C=10, gamma=0.0001;, score=0.753 total time=   0.0s\n",
      "[CV 4/5] END ................C=10, gamma=0.0001;, score=0.714 total time=   0.0s\n",
      "[CV 5/5] END ................C=10, gamma=0.0001;, score=0.737 total time=   0.0s\n"
     ]
    },
    {
     "data": {
      "text/html": [
       "<style>#sk-container-id-4 {color: black;background-color: white;}#sk-container-id-4 pre{padding: 0;}#sk-container-id-4 div.sk-toggleable {background-color: white;}#sk-container-id-4 label.sk-toggleable__label {cursor: pointer;display: block;width: 100%;margin-bottom: 0;padding: 0.3em;box-sizing: border-box;text-align: center;}#sk-container-id-4 label.sk-toggleable__label-arrow:before {content: \"▸\";float: left;margin-right: 0.25em;color: #696969;}#sk-container-id-4 label.sk-toggleable__label-arrow:hover:before {color: black;}#sk-container-id-4 div.sk-estimator:hover label.sk-toggleable__label-arrow:before {color: black;}#sk-container-id-4 div.sk-toggleable__content {max-height: 0;max-width: 0;overflow: hidden;text-align: left;background-color: #f0f8ff;}#sk-container-id-4 div.sk-toggleable__content pre {margin: 0.2em;color: black;border-radius: 0.25em;background-color: #f0f8ff;}#sk-container-id-4 input.sk-toggleable__control:checked~div.sk-toggleable__content {max-height: 200px;max-width: 100%;overflow: auto;}#sk-container-id-4 input.sk-toggleable__control:checked~label.sk-toggleable__label-arrow:before {content: \"▾\";}#sk-container-id-4 div.sk-estimator input.sk-toggleable__control:checked~label.sk-toggleable__label {background-color: #d4ebff;}#sk-container-id-4 div.sk-label input.sk-toggleable__control:checked~label.sk-toggleable__label {background-color: #d4ebff;}#sk-container-id-4 input.sk-hidden--visually {border: 0;clip: rect(1px 1px 1px 1px);clip: rect(1px, 1px, 1px, 1px);height: 1px;margin: -1px;overflow: hidden;padding: 0;position: absolute;width: 1px;}#sk-container-id-4 div.sk-estimator {font-family: monospace;background-color: #f0f8ff;border: 1px dotted black;border-radius: 0.25em;box-sizing: border-box;margin-bottom: 0.5em;}#sk-container-id-4 div.sk-estimator:hover {background-color: #d4ebff;}#sk-container-id-4 div.sk-parallel-item::after {content: \"\";width: 100%;border-bottom: 1px solid gray;flex-grow: 1;}#sk-container-id-4 div.sk-label:hover label.sk-toggleable__label {background-color: #d4ebff;}#sk-container-id-4 div.sk-serial::before {content: \"\";position: absolute;border-left: 1px solid gray;box-sizing: border-box;top: 0;bottom: 0;left: 50%;z-index: 0;}#sk-container-id-4 div.sk-serial {display: flex;flex-direction: column;align-items: center;background-color: white;padding-right: 0.2em;padding-left: 0.2em;position: relative;}#sk-container-id-4 div.sk-item {position: relative;z-index: 1;}#sk-container-id-4 div.sk-parallel {display: flex;align-items: stretch;justify-content: center;background-color: white;position: relative;}#sk-container-id-4 div.sk-item::before, #sk-container-id-4 div.sk-parallel-item::before {content: \"\";position: absolute;border-left: 1px solid gray;box-sizing: border-box;top: 0;bottom: 0;left: 50%;z-index: -1;}#sk-container-id-4 div.sk-parallel-item {display: flex;flex-direction: column;z-index: 1;position: relative;background-color: white;}#sk-container-id-4 div.sk-parallel-item:first-child::after {align-self: flex-end;width: 50%;}#sk-container-id-4 div.sk-parallel-item:last-child::after {align-self: flex-start;width: 50%;}#sk-container-id-4 div.sk-parallel-item:only-child::after {width: 0;}#sk-container-id-4 div.sk-dashed-wrapped {border: 1px dashed gray;margin: 0 0.4em 0.5em 0.4em;box-sizing: border-box;padding-bottom: 0.4em;background-color: white;}#sk-container-id-4 div.sk-label label {font-family: monospace;font-weight: bold;display: inline-block;line-height: 1.2em;}#sk-container-id-4 div.sk-label-container {text-align: center;}#sk-container-id-4 div.sk-container {/* jupyter's `normalize.less` sets `[hidden] { display: none; }` but bootstrap.min.css set `[hidden] { display: none !important; }` so we also need the `!important` here to be able to override the default hidden behavior on the sphinx rendered scikit-learn.org. See: https://github.com/scikit-learn/scikit-learn/issues/21755 */display: inline-block !important;position: relative;}#sk-container-id-4 div.sk-text-repr-fallback {display: none;}</style><div id=\"sk-container-id-4\" class=\"sk-top-container\"><div class=\"sk-text-repr-fallback\"><pre>GridSearchCV(estimator=SVC(),\n",
       "             param_grid={&#x27;C&#x27;: [0, 1, 2, 3, 4, 5, 6, 7, 8, 9, 10],\n",
       "                         &#x27;gamma&#x27;: [1, 0.1, 0.01, 0.001, 0.0001]},\n",
       "             verbose=3)</pre><b>In a Jupyter environment, please rerun this cell to show the HTML representation or trust the notebook. <br />On GitHub, the HTML representation is unable to render, please try loading this page with nbviewer.org.</b></div><div class=\"sk-container\" hidden><div class=\"sk-item sk-dashed-wrapped\"><div class=\"sk-label-container\"><div class=\"sk-label sk-toggleable\"><input class=\"sk-toggleable__control sk-hidden--visually\" id=\"sk-estimator-id-4\" type=\"checkbox\" ><label for=\"sk-estimator-id-4\" class=\"sk-toggleable__label sk-toggleable__label-arrow\">GridSearchCV</label><div class=\"sk-toggleable__content\"><pre>GridSearchCV(estimator=SVC(),\n",
       "             param_grid={&#x27;C&#x27;: [0, 1, 2, 3, 4, 5, 6, 7, 8, 9, 10],\n",
       "                         &#x27;gamma&#x27;: [1, 0.1, 0.01, 0.001, 0.0001]},\n",
       "             verbose=3)</pre></div></div></div><div class=\"sk-parallel\"><div class=\"sk-parallel-item\"><div class=\"sk-item\"><div class=\"sk-label-container\"><div class=\"sk-label sk-toggleable\"><input class=\"sk-toggleable__control sk-hidden--visually\" id=\"sk-estimator-id-5\" type=\"checkbox\" ><label for=\"sk-estimator-id-5\" class=\"sk-toggleable__label sk-toggleable__label-arrow\">estimator: SVC</label><div class=\"sk-toggleable__content\"><pre>SVC()</pre></div></div></div><div class=\"sk-serial\"><div class=\"sk-item\"><div class=\"sk-estimator sk-toggleable\"><input class=\"sk-toggleable__control sk-hidden--visually\" id=\"sk-estimator-id-6\" type=\"checkbox\" ><label for=\"sk-estimator-id-6\" class=\"sk-toggleable__label sk-toggleable__label-arrow\">SVC</label><div class=\"sk-toggleable__content\"><pre>SVC()</pre></div></div></div></div></div></div></div></div></div></div>"
      ],
      "text/plain": [
       "GridSearchCV(estimator=SVC(),\n",
       "             param_grid={'C': [0, 1, 2, 3, 4, 5, 6, 7, 8, 9, 10],\n",
       "                         'gamma': [1, 0.1, 0.01, 0.001, 0.0001]},\n",
       "             verbose=3)"
      ]
     },
     "execution_count": 74,
     "metadata": {},
     "output_type": "execute_result"
    }
   ],
   "source": [
    "cv.fit(X_train,y_train)"
   ]
  },
  {
   "cell_type": "code",
   "execution_count": 75,
   "id": "acd5dbf7",
   "metadata": {},
   "outputs": [
    {
     "data": {
      "text/plain": [
       "{'C': 6, 'gamma': 0.001}"
      ]
     },
     "execution_count": 75,
     "metadata": {},
     "output_type": "execute_result"
    }
   ],
   "source": [
    "#To view the best paramter obtained by Hyperparameter Tunning\n",
    "\n",
    "cv.best_params_"
   ]
  },
  {
   "cell_type": "code",
   "execution_count": 76,
   "id": "cb3941c6",
   "metadata": {
    "scrolled": true
   },
   "outputs": [
    {
     "data": {
      "text/html": [
       "<style>#sk-container-id-5 {color: black;background-color: white;}#sk-container-id-5 pre{padding: 0;}#sk-container-id-5 div.sk-toggleable {background-color: white;}#sk-container-id-5 label.sk-toggleable__label {cursor: pointer;display: block;width: 100%;margin-bottom: 0;padding: 0.3em;box-sizing: border-box;text-align: center;}#sk-container-id-5 label.sk-toggleable__label-arrow:before {content: \"▸\";float: left;margin-right: 0.25em;color: #696969;}#sk-container-id-5 label.sk-toggleable__label-arrow:hover:before {color: black;}#sk-container-id-5 div.sk-estimator:hover label.sk-toggleable__label-arrow:before {color: black;}#sk-container-id-5 div.sk-toggleable__content {max-height: 0;max-width: 0;overflow: hidden;text-align: left;background-color: #f0f8ff;}#sk-container-id-5 div.sk-toggleable__content pre {margin: 0.2em;color: black;border-radius: 0.25em;background-color: #f0f8ff;}#sk-container-id-5 input.sk-toggleable__control:checked~div.sk-toggleable__content {max-height: 200px;max-width: 100%;overflow: auto;}#sk-container-id-5 input.sk-toggleable__control:checked~label.sk-toggleable__label-arrow:before {content: \"▾\";}#sk-container-id-5 div.sk-estimator input.sk-toggleable__control:checked~label.sk-toggleable__label {background-color: #d4ebff;}#sk-container-id-5 div.sk-label input.sk-toggleable__control:checked~label.sk-toggleable__label {background-color: #d4ebff;}#sk-container-id-5 input.sk-hidden--visually {border: 0;clip: rect(1px 1px 1px 1px);clip: rect(1px, 1px, 1px, 1px);height: 1px;margin: -1px;overflow: hidden;padding: 0;position: absolute;width: 1px;}#sk-container-id-5 div.sk-estimator {font-family: monospace;background-color: #f0f8ff;border: 1px dotted black;border-radius: 0.25em;box-sizing: border-box;margin-bottom: 0.5em;}#sk-container-id-5 div.sk-estimator:hover {background-color: #d4ebff;}#sk-container-id-5 div.sk-parallel-item::after {content: \"\";width: 100%;border-bottom: 1px solid gray;flex-grow: 1;}#sk-container-id-5 div.sk-label:hover label.sk-toggleable__label {background-color: #d4ebff;}#sk-container-id-5 div.sk-serial::before {content: \"\";position: absolute;border-left: 1px solid gray;box-sizing: border-box;top: 0;bottom: 0;left: 50%;z-index: 0;}#sk-container-id-5 div.sk-serial {display: flex;flex-direction: column;align-items: center;background-color: white;padding-right: 0.2em;padding-left: 0.2em;position: relative;}#sk-container-id-5 div.sk-item {position: relative;z-index: 1;}#sk-container-id-5 div.sk-parallel {display: flex;align-items: stretch;justify-content: center;background-color: white;position: relative;}#sk-container-id-5 div.sk-item::before, #sk-container-id-5 div.sk-parallel-item::before {content: \"\";position: absolute;border-left: 1px solid gray;box-sizing: border-box;top: 0;bottom: 0;left: 50%;z-index: -1;}#sk-container-id-5 div.sk-parallel-item {display: flex;flex-direction: column;z-index: 1;position: relative;background-color: white;}#sk-container-id-5 div.sk-parallel-item:first-child::after {align-self: flex-end;width: 50%;}#sk-container-id-5 div.sk-parallel-item:last-child::after {align-self: flex-start;width: 50%;}#sk-container-id-5 div.sk-parallel-item:only-child::after {width: 0;}#sk-container-id-5 div.sk-dashed-wrapped {border: 1px dashed gray;margin: 0 0.4em 0.5em 0.4em;box-sizing: border-box;padding-bottom: 0.4em;background-color: white;}#sk-container-id-5 div.sk-label label {font-family: monospace;font-weight: bold;display: inline-block;line-height: 1.2em;}#sk-container-id-5 div.sk-label-container {text-align: center;}#sk-container-id-5 div.sk-container {/* jupyter's `normalize.less` sets `[hidden] { display: none; }` but bootstrap.min.css set `[hidden] { display: none !important; }` so we also need the `!important` here to be able to override the default hidden behavior on the sphinx rendered scikit-learn.org. See: https://github.com/scikit-learn/scikit-learn/issues/21755 */display: inline-block !important;position: relative;}#sk-container-id-5 div.sk-text-repr-fallback {display: none;}</style><div id=\"sk-container-id-5\" class=\"sk-top-container\"><div class=\"sk-text-repr-fallback\"><pre>SVC(C=1, gamma=0.1)</pre><b>In a Jupyter environment, please rerun this cell to show the HTML representation or trust the notebook. <br />On GitHub, the HTML representation is unable to render, please try loading this page with nbviewer.org.</b></div><div class=\"sk-container\" hidden><div class=\"sk-item\"><div class=\"sk-estimator sk-toggleable\"><input class=\"sk-toggleable__control sk-hidden--visually\" id=\"sk-estimator-id-7\" type=\"checkbox\" checked><label for=\"sk-estimator-id-7\" class=\"sk-toggleable__label sk-toggleable__label-arrow\">SVC</label><div class=\"sk-toggleable__content\"><pre>SVC(C=1, gamma=0.1)</pre></div></div></div></div></div>"
      ],
      "text/plain": [
       "SVC(C=1, gamma=0.1)"
      ]
     },
     "execution_count": 76,
     "metadata": {},
     "output_type": "execute_result"
    }
   ],
   "source": [
    "svc1 = SVC(kernel=\"rbf\",C=1,gamma=0.1)\n",
    "svc1.fit(X_train,y_train)"
   ]
  },
  {
   "cell_type": "markdown",
   "id": "3176bf5e",
   "metadata": {},
   "source": [
    "-  We get the best parameter,C as 10 and epsilon as 8\n"
   ]
  },
  {
   "cell_type": "code",
   "execution_count": 77,
   "id": "bd89c3e0",
   "metadata": {},
   "outputs": [],
   "source": [
    "#Prediction for test and train models\n",
    "\n",
    "svc1_pred_train = svc1.predict(X_train)\n",
    "svc1_pred = svc1.predict(X_test)"
   ]
  },
  {
   "cell_type": "code",
   "execution_count": 78,
   "id": "ae62fbf6",
   "metadata": {
    "scrolled": true
   },
   "outputs": [
    {
     "name": "stdout",
     "output_type": "stream",
     "text": [
      "[[135   9]\n",
      " [ 40   6]]\n"
     ]
    }
   ],
   "source": [
    "# confusion matrix of the model\n",
    "\n",
    "print(confusion_matrix(y_test,svc1_pred))"
   ]
  },
  {
   "cell_type": "code",
   "execution_count": 79,
   "id": "d8865701",
   "metadata": {},
   "outputs": [
    {
     "data": {
      "text/html": [
       "<div>\n",
       "<style scoped>\n",
       "    .dataframe tbody tr th:only-of-type {\n",
       "        vertical-align: middle;\n",
       "    }\n",
       "\n",
       "    .dataframe tbody tr th {\n",
       "        vertical-align: top;\n",
       "    }\n",
       "\n",
       "    .dataframe thead th {\n",
       "        text-align: right;\n",
       "    }\n",
       "</style>\n",
       "<table border=\"1\" class=\"dataframe\">\n",
       "  <thead>\n",
       "    <tr style=\"text-align: right;\">\n",
       "      <th></th>\n",
       "      <th>0</th>\n",
       "      <th>1</th>\n",
       "      <th>accuracy</th>\n",
       "      <th>macro avg</th>\n",
       "      <th>weighted avg</th>\n",
       "    </tr>\n",
       "  </thead>\n",
       "  <tbody>\n",
       "    <tr>\n",
       "      <th>precision</th>\n",
       "      <td>0.897833</td>\n",
       "      <td>0.967213</td>\n",
       "      <td>0.908854</td>\n",
       "      <td>0.932523</td>\n",
       "      <td>0.914455</td>\n",
       "    </tr>\n",
       "    <tr>\n",
       "      <th>recall</th>\n",
       "      <td>0.993151</td>\n",
       "      <td>0.641304</td>\n",
       "      <td>0.908854</td>\n",
       "      <td>0.817228</td>\n",
       "      <td>0.908854</td>\n",
       "    </tr>\n",
       "    <tr>\n",
       "      <th>f1-score</th>\n",
       "      <td>0.943089</td>\n",
       "      <td>0.771242</td>\n",
       "      <td>0.908854</td>\n",
       "      <td>0.857166</td>\n",
       "      <td>0.901918</td>\n",
       "    </tr>\n",
       "    <tr>\n",
       "      <th>support</th>\n",
       "      <td>292.000000</td>\n",
       "      <td>92.000000</td>\n",
       "      <td>0.908854</td>\n",
       "      <td>384.000000</td>\n",
       "      <td>384.000000</td>\n",
       "    </tr>\n",
       "  </tbody>\n",
       "</table>\n",
       "</div>"
      ],
      "text/plain": [
       "                    0          1  accuracy   macro avg  weighted avg\n",
       "precision    0.897833   0.967213  0.908854    0.932523      0.914455\n",
       "recall       0.993151   0.641304  0.908854    0.817228      0.908854\n",
       "f1-score     0.943089   0.771242  0.908854    0.857166      0.901918\n",
       "support    292.000000  92.000000  0.908854  384.000000    384.000000"
      ]
     },
     "execution_count": 79,
     "metadata": {},
     "output_type": "execute_result"
    }
   ],
   "source": [
    "# classification report  of the model of train data\n",
    "\n",
    "pd.DataFrame(classification_report(y_train,svc1_pred_train,output_dict=True))"
   ]
  },
  {
   "cell_type": "code",
   "execution_count": 80,
   "id": "dc06ef54",
   "metadata": {},
   "outputs": [
    {
     "data": {
      "text/html": [
       "<div>\n",
       "<style scoped>\n",
       "    .dataframe tbody tr th:only-of-type {\n",
       "        vertical-align: middle;\n",
       "    }\n",
       "\n",
       "    .dataframe tbody tr th {\n",
       "        vertical-align: top;\n",
       "    }\n",
       "\n",
       "    .dataframe thead th {\n",
       "        text-align: right;\n",
       "    }\n",
       "</style>\n",
       "<table border=\"1\" class=\"dataframe\">\n",
       "  <thead>\n",
       "    <tr style=\"text-align: right;\">\n",
       "      <th></th>\n",
       "      <th>0</th>\n",
       "      <th>1</th>\n",
       "      <th>accuracy</th>\n",
       "      <th>macro avg</th>\n",
       "      <th>weighted avg</th>\n",
       "    </tr>\n",
       "  </thead>\n",
       "  <tbody>\n",
       "    <tr>\n",
       "      <th>precision</th>\n",
       "      <td>0.771429</td>\n",
       "      <td>0.400000</td>\n",
       "      <td>0.742105</td>\n",
       "      <td>0.585714</td>\n",
       "      <td>0.681504</td>\n",
       "    </tr>\n",
       "    <tr>\n",
       "      <th>recall</th>\n",
       "      <td>0.937500</td>\n",
       "      <td>0.130435</td>\n",
       "      <td>0.742105</td>\n",
       "      <td>0.533967</td>\n",
       "      <td>0.742105</td>\n",
       "    </tr>\n",
       "    <tr>\n",
       "      <th>f1-score</th>\n",
       "      <td>0.846395</td>\n",
       "      <td>0.196721</td>\n",
       "      <td>0.742105</td>\n",
       "      <td>0.521558</td>\n",
       "      <td>0.689106</td>\n",
       "    </tr>\n",
       "    <tr>\n",
       "      <th>support</th>\n",
       "      <td>144.000000</td>\n",
       "      <td>46.000000</td>\n",
       "      <td>0.742105</td>\n",
       "      <td>190.000000</td>\n",
       "      <td>190.000000</td>\n",
       "    </tr>\n",
       "  </tbody>\n",
       "</table>\n",
       "</div>"
      ],
      "text/plain": [
       "                    0          1  accuracy   macro avg  weighted avg\n",
       "precision    0.771429   0.400000  0.742105    0.585714      0.681504\n",
       "recall       0.937500   0.130435  0.742105    0.533967      0.742105\n",
       "f1-score     0.846395   0.196721  0.742105    0.521558      0.689106\n",
       "support    144.000000  46.000000  0.742105  190.000000    190.000000"
      ]
     },
     "execution_count": 80,
     "metadata": {},
     "output_type": "execute_result"
    }
   ],
   "source": [
    "# classification report  of the model of test data\n",
    "\n",
    "pd.DataFrame(classification_report(y_test,svc1_pred,output_dict=True))"
   ]
  },
  {
   "cell_type": "code",
   "execution_count": 81,
   "id": "8b118b92",
   "metadata": {},
   "outputs": [
    {
     "data": {
      "text/plain": [
       "0.8172275163787969"
      ]
     },
     "execution_count": 81,
     "metadata": {},
     "output_type": "execute_result"
    }
   ],
   "source": [
    "# roc and accuracy score of the model with train data\n",
    "\n",
    "roc_auc_score(y_train,svc1_pred_train)"
   ]
  },
  {
   "cell_type": "code",
   "execution_count": 82,
   "id": "f8c382b0",
   "metadata": {},
   "outputs": [
    {
     "data": {
      "text/plain": [
       "0.5339673913043478"
      ]
     },
     "execution_count": 82,
     "metadata": {},
     "output_type": "execute_result"
    }
   ],
   "source": [
    "# roc and accuracy score of the model with test data\n",
    "\n",
    "roc_auc_score(y_test,svc1_pred)"
   ]
  },
  {
   "cell_type": "code",
   "execution_count": 83,
   "id": "5fb04865",
   "metadata": {},
   "outputs": [
    {
     "data": {
      "text/plain": [
       "0.9088541666666666"
      ]
     },
     "execution_count": 83,
     "metadata": {},
     "output_type": "execute_result"
    }
   ],
   "source": [
    "# The accuracy of the model with train data\n",
    "\n",
    "accuracy_score(y_train,svc1_pred_train)"
   ]
  },
  {
   "cell_type": "code",
   "execution_count": 84,
   "id": "72390a1e",
   "metadata": {
    "scrolled": true
   },
   "outputs": [
    {
     "data": {
      "text/plain": [
       "0.7421052631578947"
      ]
     },
     "execution_count": 84,
     "metadata": {},
     "output_type": "execute_result"
    }
   ],
   "source": [
    "# The accuracy of the model with test data\n",
    "\n",
    "accuracy_score(y_test,svc1_pred)"
   ]
  },
  {
   "cell_type": "markdown",
   "id": "ee9cb7da",
   "metadata": {},
   "source": [
    "##### ✔️ With test data, we achieved an accuracy of 74%, and with training data, we achieved an accuracy of 90%Support Vector Machine - Classifier  after tunning"
   ]
  },
  {
   "cell_type": "markdown",
   "id": "5db65993",
   "metadata": {},
   "source": [
    "#  4 .Decision Tree Algorithm"
   ]
  },
  {
   "cell_type": "code",
   "execution_count": 85,
   "id": "196daf5e",
   "metadata": {},
   "outputs": [],
   "source": [
    "# load the model\n",
    "\n",
    "model=tree.DecisionTreeClassifier()"
   ]
  },
  {
   "cell_type": "code",
   "execution_count": 86,
   "id": "e61f58ea",
   "metadata": {},
   "outputs": [
    {
     "data": {
      "text/html": [
       "<style>#sk-container-id-6 {color: black;background-color: white;}#sk-container-id-6 pre{padding: 0;}#sk-container-id-6 div.sk-toggleable {background-color: white;}#sk-container-id-6 label.sk-toggleable__label {cursor: pointer;display: block;width: 100%;margin-bottom: 0;padding: 0.3em;box-sizing: border-box;text-align: center;}#sk-container-id-6 label.sk-toggleable__label-arrow:before {content: \"▸\";float: left;margin-right: 0.25em;color: #696969;}#sk-container-id-6 label.sk-toggleable__label-arrow:hover:before {color: black;}#sk-container-id-6 div.sk-estimator:hover label.sk-toggleable__label-arrow:before {color: black;}#sk-container-id-6 div.sk-toggleable__content {max-height: 0;max-width: 0;overflow: hidden;text-align: left;background-color: #f0f8ff;}#sk-container-id-6 div.sk-toggleable__content pre {margin: 0.2em;color: black;border-radius: 0.25em;background-color: #f0f8ff;}#sk-container-id-6 input.sk-toggleable__control:checked~div.sk-toggleable__content {max-height: 200px;max-width: 100%;overflow: auto;}#sk-container-id-6 input.sk-toggleable__control:checked~label.sk-toggleable__label-arrow:before {content: \"▾\";}#sk-container-id-6 div.sk-estimator input.sk-toggleable__control:checked~label.sk-toggleable__label {background-color: #d4ebff;}#sk-container-id-6 div.sk-label input.sk-toggleable__control:checked~label.sk-toggleable__label {background-color: #d4ebff;}#sk-container-id-6 input.sk-hidden--visually {border: 0;clip: rect(1px 1px 1px 1px);clip: rect(1px, 1px, 1px, 1px);height: 1px;margin: -1px;overflow: hidden;padding: 0;position: absolute;width: 1px;}#sk-container-id-6 div.sk-estimator {font-family: monospace;background-color: #f0f8ff;border: 1px dotted black;border-radius: 0.25em;box-sizing: border-box;margin-bottom: 0.5em;}#sk-container-id-6 div.sk-estimator:hover {background-color: #d4ebff;}#sk-container-id-6 div.sk-parallel-item::after {content: \"\";width: 100%;border-bottom: 1px solid gray;flex-grow: 1;}#sk-container-id-6 div.sk-label:hover label.sk-toggleable__label {background-color: #d4ebff;}#sk-container-id-6 div.sk-serial::before {content: \"\";position: absolute;border-left: 1px solid gray;box-sizing: border-box;top: 0;bottom: 0;left: 50%;z-index: 0;}#sk-container-id-6 div.sk-serial {display: flex;flex-direction: column;align-items: center;background-color: white;padding-right: 0.2em;padding-left: 0.2em;position: relative;}#sk-container-id-6 div.sk-item {position: relative;z-index: 1;}#sk-container-id-6 div.sk-parallel {display: flex;align-items: stretch;justify-content: center;background-color: white;position: relative;}#sk-container-id-6 div.sk-item::before, #sk-container-id-6 div.sk-parallel-item::before {content: \"\";position: absolute;border-left: 1px solid gray;box-sizing: border-box;top: 0;bottom: 0;left: 50%;z-index: -1;}#sk-container-id-6 div.sk-parallel-item {display: flex;flex-direction: column;z-index: 1;position: relative;background-color: white;}#sk-container-id-6 div.sk-parallel-item:first-child::after {align-self: flex-end;width: 50%;}#sk-container-id-6 div.sk-parallel-item:last-child::after {align-self: flex-start;width: 50%;}#sk-container-id-6 div.sk-parallel-item:only-child::after {width: 0;}#sk-container-id-6 div.sk-dashed-wrapped {border: 1px dashed gray;margin: 0 0.4em 0.5em 0.4em;box-sizing: border-box;padding-bottom: 0.4em;background-color: white;}#sk-container-id-6 div.sk-label label {font-family: monospace;font-weight: bold;display: inline-block;line-height: 1.2em;}#sk-container-id-6 div.sk-label-container {text-align: center;}#sk-container-id-6 div.sk-container {/* jupyter's `normalize.less` sets `[hidden] { display: none; }` but bootstrap.min.css set `[hidden] { display: none !important; }` so we also need the `!important` here to be able to override the default hidden behavior on the sphinx rendered scikit-learn.org. See: https://github.com/scikit-learn/scikit-learn/issues/21755 */display: inline-block !important;position: relative;}#sk-container-id-6 div.sk-text-repr-fallback {display: none;}</style><div id=\"sk-container-id-6\" class=\"sk-top-container\"><div class=\"sk-text-repr-fallback\"><pre>DecisionTreeClassifier()</pre><b>In a Jupyter environment, please rerun this cell to show the HTML representation or trust the notebook. <br />On GitHub, the HTML representation is unable to render, please try loading this page with nbviewer.org.</b></div><div class=\"sk-container\" hidden><div class=\"sk-item\"><div class=\"sk-estimator sk-toggleable\"><input class=\"sk-toggleable__control sk-hidden--visually\" id=\"sk-estimator-id-8\" type=\"checkbox\" checked><label for=\"sk-estimator-id-8\" class=\"sk-toggleable__label sk-toggleable__label-arrow\">DecisionTreeClassifier</label><div class=\"sk-toggleable__content\"><pre>DecisionTreeClassifier()</pre></div></div></div></div></div>"
      ],
      "text/plain": [
       "DecisionTreeClassifier()"
      ]
     },
     "execution_count": 86,
     "metadata": {},
     "output_type": "execute_result"
    }
   ],
   "source": [
    "# fit the model\n",
    "\n",
    "model.fit(X_train,y_train)"
   ]
  },
  {
   "cell_type": "code",
   "execution_count": 87,
   "id": "6716c9e9",
   "metadata": {},
   "outputs": [],
   "source": [
    "# preding the model with the train data\n",
    "\n",
    "DT_pred_train=model.predict(X_train)"
   ]
  },
  {
   "cell_type": "code",
   "execution_count": 88,
   "id": "31eb69f6",
   "metadata": {},
   "outputs": [
    {
     "data": {
      "text/plain": [
       "array([0, 0, 0, 0, 1, 0, 0, 0, 1, 0, 0, 0, 0, 0, 0, 0, 0, 0, 1, 0, 0, 0,\n",
       "       0, 1, 0, 0, 0, 0, 0, 0, 0, 1, 0, 0, 0, 0, 1, 0, 0, 0, 0, 1, 1, 0,\n",
       "       1, 1, 0, 0, 0, 0, 0, 1, 0, 0, 1, 1, 1, 0, 0, 0, 1, 0, 0, 0, 0, 1,\n",
       "       0, 0, 0, 0, 0, 0, 0, 0, 0, 0, 0, 0, 0, 0, 0, 1, 0, 0, 0, 1, 0, 0,\n",
       "       1, 0, 1, 0, 0, 0, 0, 0, 0, 0, 0, 0, 0, 0, 0, 0, 0, 1, 1, 0, 0, 0,\n",
       "       0, 0, 0, 0, 0, 0, 1, 0, 1, 0, 0, 0, 0, 0, 0, 0, 0, 1, 0, 0, 0, 0,\n",
       "       0, 0, 0, 0, 0, 0, 0, 0, 0, 0, 0, 0, 0, 1, 0, 0, 0, 1, 0, 0, 0, 0,\n",
       "       0, 0, 1, 0, 1, 0, 0, 0, 0, 0, 0, 1, 0, 0, 0, 0, 1, 0, 1, 0, 0, 0,\n",
       "       0, 0, 0, 0, 0, 0, 0, 0, 1, 0, 0, 0, 1, 1, 0, 0, 0, 0, 1, 0, 0, 0,\n",
       "       1, 0, 1, 0, 0, 1, 0, 1, 0, 1, 0, 0, 0, 0, 0, 0, 1, 0, 0, 1, 0, 0,\n",
       "       0, 0, 0, 1, 0, 0, 0, 0, 0, 0, 1, 0, 0, 1, 0, 0, 0, 0, 0, 0, 0, 0,\n",
       "       1, 0, 0, 1, 0, 0, 0, 1, 0, 0, 0, 0, 0, 1, 1, 0, 0, 1, 0, 0, 0, 0,\n",
       "       0, 0, 0, 1, 0, 0, 0, 0, 1, 0, 0, 0, 0, 0, 1, 0, 0, 0, 0, 1, 0, 0,\n",
       "       0, 1, 0, 0, 1, 0, 0, 0, 1, 0, 0, 0, 1, 0, 1, 0, 0, 0, 0, 0, 0, 0,\n",
       "       0, 0, 0, 0, 0, 0, 0, 0, 0, 0, 0, 0, 0, 1, 0, 0, 0, 0, 1, 1, 1, 0,\n",
       "       0, 0, 0, 0, 0, 1, 0, 0, 0, 1, 0, 0, 1, 0, 0, 1, 0, 1, 0, 0, 1, 0,\n",
       "       0, 0, 0, 0, 0, 0, 0, 0, 1, 0, 1, 0, 1, 1, 1, 0, 1, 0, 0, 0, 0, 0,\n",
       "       0, 0, 0, 0, 0, 0, 0, 0, 0, 0], dtype=int64)"
      ]
     },
     "execution_count": 88,
     "metadata": {},
     "output_type": "execute_result"
    }
   ],
   "source": [
    "DT_pred_train"
   ]
  },
  {
   "cell_type": "code",
   "execution_count": 89,
   "id": "8a6cf220",
   "metadata": {},
   "outputs": [],
   "source": [
    "# preding the model with the test data\n",
    "\n",
    "DT_pred=model.predict(X_test)"
   ]
  },
  {
   "cell_type": "code",
   "execution_count": 90,
   "id": "375edd46",
   "metadata": {},
   "outputs": [
    {
     "data": {
      "text/plain": [
       "array([1, 0, 0, 0, 1, 0, 0, 1, 1, 1, 0, 0, 0, 1, 1, 1, 1, 0, 0, 0, 0, 0,\n",
       "       0, 0, 1, 0, 1, 1, 1, 0, 0, 0, 0, 1, 1, 0, 0, 0, 0, 1, 0, 0, 0, 0,\n",
       "       0, 0, 0, 0, 0, 1, 0, 1, 0, 0, 0, 0, 0, 1, 0, 0, 0, 0, 0, 0, 0, 0,\n",
       "       0, 0, 0, 0, 0, 0, 0, 0, 0, 0, 1, 0, 1, 1, 1, 0, 0, 0, 0, 0, 0, 1,\n",
       "       0, 1, 0, 0, 0, 0, 1, 0, 0, 0, 0, 0, 0, 0, 0, 1, 0, 0, 0, 0, 0, 1,\n",
       "       0, 1, 1, 0, 0, 0, 0, 0, 0, 0, 0, 0, 1, 0, 0, 0, 0, 1, 0, 0, 0, 0,\n",
       "       0, 0, 0, 0, 0, 0, 0, 0, 1, 1, 0, 1, 0, 0, 0, 0, 1, 0, 0, 1, 0, 1,\n",
       "       0, 0, 0, 0, 0, 1, 0, 0, 0, 0, 1, 0, 0, 0, 0, 0, 0, 0, 0, 0, 0, 0,\n",
       "       1, 0, 0, 0, 0, 0, 0, 0, 0, 0, 0, 1, 0, 0], dtype=int64)"
      ]
     },
     "execution_count": 90,
     "metadata": {},
     "output_type": "execute_result"
    }
   ],
   "source": [
    "DT_pred"
   ]
  },
  {
   "cell_type": "code",
   "execution_count": 91,
   "id": "e503e40d",
   "metadata": {},
   "outputs": [
    {
     "name": "stdout",
     "output_type": "stream",
     "text": [
      "[[117  27]\n",
      " [ 31  15]]\n"
     ]
    }
   ],
   "source": [
    "# The confution matrix of the model\n",
    "\n",
    "print(confusion_matrix(y_test,DT_pred))"
   ]
  },
  {
   "cell_type": "code",
   "execution_count": 92,
   "id": "9b79b8ea",
   "metadata": {},
   "outputs": [
    {
     "data": {
      "text/html": [
       "<div>\n",
       "<style scoped>\n",
       "    .dataframe tbody tr th:only-of-type {\n",
       "        vertical-align: middle;\n",
       "    }\n",
       "\n",
       "    .dataframe tbody tr th {\n",
       "        vertical-align: top;\n",
       "    }\n",
       "\n",
       "    .dataframe thead th {\n",
       "        text-align: right;\n",
       "    }\n",
       "</style>\n",
       "<table border=\"1\" class=\"dataframe\">\n",
       "  <thead>\n",
       "    <tr style=\"text-align: right;\">\n",
       "      <th></th>\n",
       "      <th>0</th>\n",
       "      <th>1</th>\n",
       "      <th>accuracy</th>\n",
       "      <th>macro avg</th>\n",
       "      <th>weighted avg</th>\n",
       "    </tr>\n",
       "  </thead>\n",
       "  <tbody>\n",
       "    <tr>\n",
       "      <th>precision</th>\n",
       "      <td>0.944625</td>\n",
       "      <td>0.974026</td>\n",
       "      <td>0.950521</td>\n",
       "      <td>0.959326</td>\n",
       "      <td>0.951669</td>\n",
       "    </tr>\n",
       "    <tr>\n",
       "      <th>recall</th>\n",
       "      <td>0.993151</td>\n",
       "      <td>0.815217</td>\n",
       "      <td>0.950521</td>\n",
       "      <td>0.904184</td>\n",
       "      <td>0.950521</td>\n",
       "    </tr>\n",
       "    <tr>\n",
       "      <th>f1-score</th>\n",
       "      <td>0.968280</td>\n",
       "      <td>0.887574</td>\n",
       "      <td>0.950521</td>\n",
       "      <td>0.927927</td>\n",
       "      <td>0.948945</td>\n",
       "    </tr>\n",
       "    <tr>\n",
       "      <th>support</th>\n",
       "      <td>292.000000</td>\n",
       "      <td>92.000000</td>\n",
       "      <td>0.950521</td>\n",
       "      <td>384.000000</td>\n",
       "      <td>384.000000</td>\n",
       "    </tr>\n",
       "  </tbody>\n",
       "</table>\n",
       "</div>"
      ],
      "text/plain": [
       "                    0          1  accuracy   macro avg  weighted avg\n",
       "precision    0.944625   0.974026  0.950521    0.959326      0.951669\n",
       "recall       0.993151   0.815217  0.950521    0.904184      0.950521\n",
       "f1-score     0.968280   0.887574  0.950521    0.927927      0.948945\n",
       "support    292.000000  92.000000  0.950521  384.000000    384.000000"
      ]
     },
     "execution_count": 92,
     "metadata": {},
     "output_type": "execute_result"
    }
   ],
   "source": [
    "# The classification of the model with train data\n",
    "\n",
    "pd.DataFrame(classification_report(y_train,DT_pred_train,output_dict=True))"
   ]
  },
  {
   "cell_type": "code",
   "execution_count": 93,
   "id": "8780ffdf",
   "metadata": {
    "scrolled": true
   },
   "outputs": [
    {
     "data": {
      "text/html": [
       "<div>\n",
       "<style scoped>\n",
       "    .dataframe tbody tr th:only-of-type {\n",
       "        vertical-align: middle;\n",
       "    }\n",
       "\n",
       "    .dataframe tbody tr th {\n",
       "        vertical-align: top;\n",
       "    }\n",
       "\n",
       "    .dataframe thead th {\n",
       "        text-align: right;\n",
       "    }\n",
       "</style>\n",
       "<table border=\"1\" class=\"dataframe\">\n",
       "  <thead>\n",
       "    <tr style=\"text-align: right;\">\n",
       "      <th></th>\n",
       "      <th>0</th>\n",
       "      <th>1</th>\n",
       "      <th>accuracy</th>\n",
       "      <th>macro avg</th>\n",
       "      <th>weighted avg</th>\n",
       "    </tr>\n",
       "  </thead>\n",
       "  <tbody>\n",
       "    <tr>\n",
       "      <th>precision</th>\n",
       "      <td>0.790541</td>\n",
       "      <td>0.357143</td>\n",
       "      <td>0.694737</td>\n",
       "      <td>0.573842</td>\n",
       "      <td>0.685613</td>\n",
       "    </tr>\n",
       "    <tr>\n",
       "      <th>recall</th>\n",
       "      <td>0.812500</td>\n",
       "      <td>0.326087</td>\n",
       "      <td>0.694737</td>\n",
       "      <td>0.569293</td>\n",
       "      <td>0.694737</td>\n",
       "    </tr>\n",
       "    <tr>\n",
       "      <th>f1-score</th>\n",
       "      <td>0.801370</td>\n",
       "      <td>0.340909</td>\n",
       "      <td>0.694737</td>\n",
       "      <td>0.571139</td>\n",
       "      <td>0.689890</td>\n",
       "    </tr>\n",
       "    <tr>\n",
       "      <th>support</th>\n",
       "      <td>144.000000</td>\n",
       "      <td>46.000000</td>\n",
       "      <td>0.694737</td>\n",
       "      <td>190.000000</td>\n",
       "      <td>190.000000</td>\n",
       "    </tr>\n",
       "  </tbody>\n",
       "</table>\n",
       "</div>"
      ],
      "text/plain": [
       "                    0          1  accuracy   macro avg  weighted avg\n",
       "precision    0.790541   0.357143  0.694737    0.573842      0.685613\n",
       "recall       0.812500   0.326087  0.694737    0.569293      0.694737\n",
       "f1-score     0.801370   0.340909  0.694737    0.571139      0.689890\n",
       "support    144.000000  46.000000  0.694737  190.000000    190.000000"
      ]
     },
     "execution_count": 93,
     "metadata": {},
     "output_type": "execute_result"
    }
   ],
   "source": [
    "# The classification of the model\n",
    "\n",
    "pd.DataFrame(classification_report(y_test,DT_pred,output_dict=True))"
   ]
  },
  {
   "cell_type": "code",
   "execution_count": 94,
   "id": "b3882196",
   "metadata": {},
   "outputs": [
    {
     "data": {
      "text/plain": [
       "0.9505208333333334"
      ]
     },
     "execution_count": 94,
     "metadata": {},
     "output_type": "execute_result"
    }
   ],
   "source": [
    "# The accuracy of the model with train data\n",
    "\n",
    "accuracy_score(y_train,DT_pred_train)"
   ]
  },
  {
   "cell_type": "code",
   "execution_count": 95,
   "id": "c550289b",
   "metadata": {},
   "outputs": [
    {
     "data": {
      "text/plain": [
       "0.6947368421052632"
      ]
     },
     "execution_count": 95,
     "metadata": {},
     "output_type": "execute_result"
    }
   ],
   "source": [
    "# The accuracy of the model\n",
    "\n",
    "accuracy_score(y_test,DT_pred)"
   ]
  },
  {
   "cell_type": "markdown",
   "id": "fcb23829",
   "metadata": {},
   "source": [
    "##### ✔️  With test data, we achieved an accuracy of 68%, and with training data, we achieved an accuracy of 95% in Decision Tree Algorithm"
   ]
  },
  {
   "cell_type": "markdown",
   "id": "b63b97a1",
   "metadata": {},
   "source": [
    "# 5 .RandomForestClassifier"
   ]
  },
  {
   "cell_type": "code",
   "execution_count": 96,
   "id": "3281a9e1",
   "metadata": {},
   "outputs": [],
   "source": [
    "# Load the model\n",
    "\n",
    "modle=RandomForestClassifier()"
   ]
  },
  {
   "cell_type": "code",
   "execution_count": 97,
   "id": "1c67347b",
   "metadata": {},
   "outputs": [
    {
     "data": {
      "text/html": [
       "<style>#sk-container-id-7 {color: black;background-color: white;}#sk-container-id-7 pre{padding: 0;}#sk-container-id-7 div.sk-toggleable {background-color: white;}#sk-container-id-7 label.sk-toggleable__label {cursor: pointer;display: block;width: 100%;margin-bottom: 0;padding: 0.3em;box-sizing: border-box;text-align: center;}#sk-container-id-7 label.sk-toggleable__label-arrow:before {content: \"▸\";float: left;margin-right: 0.25em;color: #696969;}#sk-container-id-7 label.sk-toggleable__label-arrow:hover:before {color: black;}#sk-container-id-7 div.sk-estimator:hover label.sk-toggleable__label-arrow:before {color: black;}#sk-container-id-7 div.sk-toggleable__content {max-height: 0;max-width: 0;overflow: hidden;text-align: left;background-color: #f0f8ff;}#sk-container-id-7 div.sk-toggleable__content pre {margin: 0.2em;color: black;border-radius: 0.25em;background-color: #f0f8ff;}#sk-container-id-7 input.sk-toggleable__control:checked~div.sk-toggleable__content {max-height: 200px;max-width: 100%;overflow: auto;}#sk-container-id-7 input.sk-toggleable__control:checked~label.sk-toggleable__label-arrow:before {content: \"▾\";}#sk-container-id-7 div.sk-estimator input.sk-toggleable__control:checked~label.sk-toggleable__label {background-color: #d4ebff;}#sk-container-id-7 div.sk-label input.sk-toggleable__control:checked~label.sk-toggleable__label {background-color: #d4ebff;}#sk-container-id-7 input.sk-hidden--visually {border: 0;clip: rect(1px 1px 1px 1px);clip: rect(1px, 1px, 1px, 1px);height: 1px;margin: -1px;overflow: hidden;padding: 0;position: absolute;width: 1px;}#sk-container-id-7 div.sk-estimator {font-family: monospace;background-color: #f0f8ff;border: 1px dotted black;border-radius: 0.25em;box-sizing: border-box;margin-bottom: 0.5em;}#sk-container-id-7 div.sk-estimator:hover {background-color: #d4ebff;}#sk-container-id-7 div.sk-parallel-item::after {content: \"\";width: 100%;border-bottom: 1px solid gray;flex-grow: 1;}#sk-container-id-7 div.sk-label:hover label.sk-toggleable__label {background-color: #d4ebff;}#sk-container-id-7 div.sk-serial::before {content: \"\";position: absolute;border-left: 1px solid gray;box-sizing: border-box;top: 0;bottom: 0;left: 50%;z-index: 0;}#sk-container-id-7 div.sk-serial {display: flex;flex-direction: column;align-items: center;background-color: white;padding-right: 0.2em;padding-left: 0.2em;position: relative;}#sk-container-id-7 div.sk-item {position: relative;z-index: 1;}#sk-container-id-7 div.sk-parallel {display: flex;align-items: stretch;justify-content: center;background-color: white;position: relative;}#sk-container-id-7 div.sk-item::before, #sk-container-id-7 div.sk-parallel-item::before {content: \"\";position: absolute;border-left: 1px solid gray;box-sizing: border-box;top: 0;bottom: 0;left: 50%;z-index: -1;}#sk-container-id-7 div.sk-parallel-item {display: flex;flex-direction: column;z-index: 1;position: relative;background-color: white;}#sk-container-id-7 div.sk-parallel-item:first-child::after {align-self: flex-end;width: 50%;}#sk-container-id-7 div.sk-parallel-item:last-child::after {align-self: flex-start;width: 50%;}#sk-container-id-7 div.sk-parallel-item:only-child::after {width: 0;}#sk-container-id-7 div.sk-dashed-wrapped {border: 1px dashed gray;margin: 0 0.4em 0.5em 0.4em;box-sizing: border-box;padding-bottom: 0.4em;background-color: white;}#sk-container-id-7 div.sk-label label {font-family: monospace;font-weight: bold;display: inline-block;line-height: 1.2em;}#sk-container-id-7 div.sk-label-container {text-align: center;}#sk-container-id-7 div.sk-container {/* jupyter's `normalize.less` sets `[hidden] { display: none; }` but bootstrap.min.css set `[hidden] { display: none !important; }` so we also need the `!important` here to be able to override the default hidden behavior on the sphinx rendered scikit-learn.org. See: https://github.com/scikit-learn/scikit-learn/issues/21755 */display: inline-block !important;position: relative;}#sk-container-id-7 div.sk-text-repr-fallback {display: none;}</style><div id=\"sk-container-id-7\" class=\"sk-top-container\"><div class=\"sk-text-repr-fallback\"><pre>DecisionTreeClassifier()</pre><b>In a Jupyter environment, please rerun this cell to show the HTML representation or trust the notebook. <br />On GitHub, the HTML representation is unable to render, please try loading this page with nbviewer.org.</b></div><div class=\"sk-container\" hidden><div class=\"sk-item\"><div class=\"sk-estimator sk-toggleable\"><input class=\"sk-toggleable__control sk-hidden--visually\" id=\"sk-estimator-id-9\" type=\"checkbox\" checked><label for=\"sk-estimator-id-9\" class=\"sk-toggleable__label sk-toggleable__label-arrow\">DecisionTreeClassifier</label><div class=\"sk-toggleable__content\"><pre>DecisionTreeClassifier()</pre></div></div></div></div></div>"
      ],
      "text/plain": [
       "DecisionTreeClassifier()"
      ]
     },
     "execution_count": 97,
     "metadata": {},
     "output_type": "execute_result"
    }
   ],
   "source": [
    "# fit the model with the data\n",
    "\n",
    "model.fit(X_train,y_train)"
   ]
  },
  {
   "cell_type": "code",
   "execution_count": 98,
   "id": "1c2cbdd9",
   "metadata": {},
   "outputs": [],
   "source": [
    "# Predicting the model with the train data\n",
    "\n",
    "rfc_pred_train=model.predict(X_train)"
   ]
  },
  {
   "cell_type": "code",
   "execution_count": 99,
   "id": "0b6e2959",
   "metadata": {},
   "outputs": [
    {
     "data": {
      "text/plain": [
       "array([0, 0, 0, 0, 1, 0, 0, 0, 1, 0, 0, 0, 0, 0, 0, 0, 0, 0, 1, 0, 0, 0,\n",
       "       0, 1, 0, 0, 0, 0, 0, 0, 0, 1, 0, 0, 0, 0, 1, 0, 0, 0, 0, 1, 1, 0,\n",
       "       1, 1, 0, 0, 0, 0, 0, 1, 0, 0, 1, 1, 1, 0, 0, 0, 1, 0, 0, 0, 0, 1,\n",
       "       0, 0, 0, 0, 0, 0, 0, 0, 0, 0, 0, 0, 0, 0, 0, 1, 0, 0, 0, 1, 0, 0,\n",
       "       1, 0, 1, 0, 0, 0, 0, 0, 0, 0, 0, 0, 0, 0, 0, 0, 0, 1, 1, 0, 0, 0,\n",
       "       0, 0, 0, 0, 0, 0, 1, 0, 1, 0, 0, 0, 0, 0, 0, 0, 0, 1, 0, 0, 0, 0,\n",
       "       0, 0, 0, 0, 0, 0, 0, 0, 0, 0, 0, 0, 0, 1, 0, 0, 0, 1, 0, 0, 0, 0,\n",
       "       0, 0, 1, 0, 1, 0, 0, 0, 0, 0, 0, 1, 0, 0, 0, 0, 1, 0, 1, 0, 0, 0,\n",
       "       0, 0, 0, 0, 0, 0, 0, 0, 1, 0, 0, 0, 1, 1, 0, 0, 0, 0, 1, 0, 0, 0,\n",
       "       1, 0, 1, 0, 0, 1, 0, 1, 0, 1, 0, 0, 0, 0, 0, 0, 1, 0, 0, 1, 0, 0,\n",
       "       0, 0, 0, 1, 0, 0, 0, 0, 0, 0, 1, 0, 0, 1, 0, 0, 0, 0, 0, 0, 0, 0,\n",
       "       1, 0, 0, 1, 0, 0, 0, 1, 0, 0, 0, 0, 0, 1, 1, 0, 0, 1, 0, 0, 0, 0,\n",
       "       0, 0, 0, 1, 0, 0, 0, 0, 1, 0, 0, 0, 0, 0, 1, 0, 0, 0, 0, 1, 0, 0,\n",
       "       0, 1, 0, 0, 1, 0, 0, 0, 1, 0, 0, 0, 1, 0, 1, 0, 0, 0, 0, 0, 0, 0,\n",
       "       0, 0, 0, 0, 0, 0, 0, 0, 0, 0, 0, 0, 0, 1, 0, 0, 0, 0, 1, 1, 1, 0,\n",
       "       0, 0, 0, 0, 0, 1, 0, 0, 0, 1, 0, 0, 1, 0, 0, 1, 0, 1, 0, 0, 1, 0,\n",
       "       0, 0, 0, 0, 0, 0, 0, 0, 1, 0, 1, 0, 1, 1, 1, 0, 1, 0, 0, 0, 0, 0,\n",
       "       0, 0, 0, 0, 0, 0, 0, 0, 0, 0], dtype=int64)"
      ]
     },
     "execution_count": 99,
     "metadata": {},
     "output_type": "execute_result"
    }
   ],
   "source": [
    "rfc_pred_train"
   ]
  },
  {
   "cell_type": "code",
   "execution_count": 100,
   "id": "7e31711d",
   "metadata": {},
   "outputs": [],
   "source": [
    "# Predicting the model with the test data\n",
    "\n",
    "rfc_pred=model.predict(X_test)"
   ]
  },
  {
   "cell_type": "code",
   "execution_count": 101,
   "id": "38a180f8",
   "metadata": {},
   "outputs": [
    {
     "data": {
      "text/plain": [
       "array([1, 0, 0, 0, 1, 0, 0, 1, 1, 1, 0, 0, 0, 1, 1, 1, 1, 0, 0, 0, 0, 0,\n",
       "       0, 0, 1, 0, 0, 1, 1, 0, 0, 0, 0, 1, 1, 0, 0, 0, 0, 1, 1, 0, 0, 0,\n",
       "       0, 0, 0, 0, 0, 1, 0, 1, 0, 0, 0, 0, 0, 1, 1, 0, 0, 0, 0, 0, 0, 0,\n",
       "       0, 0, 0, 0, 0, 1, 0, 0, 0, 0, 1, 0, 1, 1, 1, 0, 0, 0, 0, 0, 0, 1,\n",
       "       0, 1, 0, 0, 0, 0, 1, 0, 1, 0, 0, 0, 0, 0, 0, 1, 0, 0, 0, 0, 0, 1,\n",
       "       1, 1, 1, 0, 0, 0, 0, 0, 0, 0, 0, 0, 1, 0, 0, 0, 0, 1, 0, 0, 0, 0,\n",
       "       0, 0, 0, 0, 0, 0, 0, 0, 1, 1, 0, 1, 0, 0, 0, 0, 1, 0, 0, 1, 0, 0,\n",
       "       0, 0, 0, 0, 0, 1, 0, 0, 0, 0, 1, 0, 0, 0, 0, 0, 0, 0, 0, 0, 0, 0,\n",
       "       1, 0, 0, 0, 0, 0, 0, 0, 0, 0, 0, 1, 0, 0], dtype=int64)"
      ]
     },
     "execution_count": 101,
     "metadata": {},
     "output_type": "execute_result"
    }
   ],
   "source": [
    "rfc_pred"
   ]
  },
  {
   "cell_type": "code",
   "execution_count": 102,
   "id": "82ad73be",
   "metadata": {},
   "outputs": [
    {
     "name": "stdout",
     "output_type": "stream",
     "text": [
      "[[115  29]\n",
      " [ 30  16]]\n"
     ]
    }
   ],
   "source": [
    "# confusion matrix of the model\n",
    "\n",
    "print(confusion_matrix(y_test,rfc_pred))"
   ]
  },
  {
   "cell_type": "code",
   "execution_count": 103,
   "id": "b1aa14ee",
   "metadata": {},
   "outputs": [
    {
     "data": {
      "text/html": [
       "<div>\n",
       "<style scoped>\n",
       "    .dataframe tbody tr th:only-of-type {\n",
       "        vertical-align: middle;\n",
       "    }\n",
       "\n",
       "    .dataframe tbody tr th {\n",
       "        vertical-align: top;\n",
       "    }\n",
       "\n",
       "    .dataframe thead th {\n",
       "        text-align: right;\n",
       "    }\n",
       "</style>\n",
       "<table border=\"1\" class=\"dataframe\">\n",
       "  <thead>\n",
       "    <tr style=\"text-align: right;\">\n",
       "      <th></th>\n",
       "      <th>0</th>\n",
       "      <th>1</th>\n",
       "      <th>accuracy</th>\n",
       "      <th>macro avg</th>\n",
       "      <th>weighted avg</th>\n",
       "    </tr>\n",
       "  </thead>\n",
       "  <tbody>\n",
       "    <tr>\n",
       "      <th>precision</th>\n",
       "      <td>0.944625</td>\n",
       "      <td>0.974026</td>\n",
       "      <td>0.950521</td>\n",
       "      <td>0.959326</td>\n",
       "      <td>0.951669</td>\n",
       "    </tr>\n",
       "    <tr>\n",
       "      <th>recall</th>\n",
       "      <td>0.993151</td>\n",
       "      <td>0.815217</td>\n",
       "      <td>0.950521</td>\n",
       "      <td>0.904184</td>\n",
       "      <td>0.950521</td>\n",
       "    </tr>\n",
       "    <tr>\n",
       "      <th>f1-score</th>\n",
       "      <td>0.968280</td>\n",
       "      <td>0.887574</td>\n",
       "      <td>0.950521</td>\n",
       "      <td>0.927927</td>\n",
       "      <td>0.948945</td>\n",
       "    </tr>\n",
       "    <tr>\n",
       "      <th>support</th>\n",
       "      <td>292.000000</td>\n",
       "      <td>92.000000</td>\n",
       "      <td>0.950521</td>\n",
       "      <td>384.000000</td>\n",
       "      <td>384.000000</td>\n",
       "    </tr>\n",
       "  </tbody>\n",
       "</table>\n",
       "</div>"
      ],
      "text/plain": [
       "                    0          1  accuracy   macro avg  weighted avg\n",
       "precision    0.944625   0.974026  0.950521    0.959326      0.951669\n",
       "recall       0.993151   0.815217  0.950521    0.904184      0.950521\n",
       "f1-score     0.968280   0.887574  0.950521    0.927927      0.948945\n",
       "support    292.000000  92.000000  0.950521  384.000000    384.000000"
      ]
     },
     "execution_count": 103,
     "metadata": {},
     "output_type": "execute_result"
    }
   ],
   "source": [
    "# The classification report of the model with train data\n",
    "\n",
    "pd.DataFrame(classification_report(y_train,rfc_pred_train,output_dict=True))"
   ]
  },
  {
   "cell_type": "code",
   "execution_count": 104,
   "id": "24dbd44e",
   "metadata": {},
   "outputs": [
    {
     "data": {
      "text/html": [
       "<div>\n",
       "<style scoped>\n",
       "    .dataframe tbody tr th:only-of-type {\n",
       "        vertical-align: middle;\n",
       "    }\n",
       "\n",
       "    .dataframe tbody tr th {\n",
       "        vertical-align: top;\n",
       "    }\n",
       "\n",
       "    .dataframe thead th {\n",
       "        text-align: right;\n",
       "    }\n",
       "</style>\n",
       "<table border=\"1\" class=\"dataframe\">\n",
       "  <thead>\n",
       "    <tr style=\"text-align: right;\">\n",
       "      <th></th>\n",
       "      <th>0</th>\n",
       "      <th>1</th>\n",
       "      <th>accuracy</th>\n",
       "      <th>macro avg</th>\n",
       "      <th>weighted avg</th>\n",
       "    </tr>\n",
       "  </thead>\n",
       "  <tbody>\n",
       "    <tr>\n",
       "      <th>precision</th>\n",
       "      <td>0.793103</td>\n",
       "      <td>0.355556</td>\n",
       "      <td>0.689474</td>\n",
       "      <td>0.574330</td>\n",
       "      <td>0.687171</td>\n",
       "    </tr>\n",
       "    <tr>\n",
       "      <th>recall</th>\n",
       "      <td>0.798611</td>\n",
       "      <td>0.347826</td>\n",
       "      <td>0.689474</td>\n",
       "      <td>0.573219</td>\n",
       "      <td>0.689474</td>\n",
       "    </tr>\n",
       "    <tr>\n",
       "      <th>f1-score</th>\n",
       "      <td>0.795848</td>\n",
       "      <td>0.351648</td>\n",
       "      <td>0.689474</td>\n",
       "      <td>0.573748</td>\n",
       "      <td>0.688305</td>\n",
       "    </tr>\n",
       "    <tr>\n",
       "      <th>support</th>\n",
       "      <td>144.000000</td>\n",
       "      <td>46.000000</td>\n",
       "      <td>0.689474</td>\n",
       "      <td>190.000000</td>\n",
       "      <td>190.000000</td>\n",
       "    </tr>\n",
       "  </tbody>\n",
       "</table>\n",
       "</div>"
      ],
      "text/plain": [
       "                    0          1  accuracy   macro avg  weighted avg\n",
       "precision    0.793103   0.355556  0.689474    0.574330      0.687171\n",
       "recall       0.798611   0.347826  0.689474    0.573219      0.689474\n",
       "f1-score     0.795848   0.351648  0.689474    0.573748      0.688305\n",
       "support    144.000000  46.000000  0.689474  190.000000    190.000000"
      ]
     },
     "execution_count": 104,
     "metadata": {},
     "output_type": "execute_result"
    }
   ],
   "source": [
    "# The classification report of the model\n",
    "\n",
    "pd.DataFrame(classification_report(y_test,rfc_pred,output_dict=True))"
   ]
  },
  {
   "cell_type": "code",
   "execution_count": 105,
   "id": "47095cc3",
   "metadata": {},
   "outputs": [
    {
     "data": {
      "text/plain": [
       "0.9505208333333334"
      ]
     },
     "execution_count": 105,
     "metadata": {},
     "output_type": "execute_result"
    }
   ],
   "source": [
    "# The accuracy score of the model with train data\n",
    "\n",
    "accuracy_score(y_train,rfc_pred_train)"
   ]
  },
  {
   "cell_type": "code",
   "execution_count": 106,
   "id": "cf3b707c",
   "metadata": {
    "scrolled": true
   },
   "outputs": [
    {
     "data": {
      "text/plain": [
       "0.6894736842105263"
      ]
     },
     "execution_count": 106,
     "metadata": {},
     "output_type": "execute_result"
    }
   ],
   "source": [
    "# The accuracy score of the model with test data\n",
    "\n",
    "accuracy_score(y_test,rfc_pred)"
   ]
  },
  {
   "cell_type": "markdown",
   "id": "ec8e62d9",
   "metadata": {},
   "source": [
    "##### ✔️   With test data, we achieved an accuracy of 68%, and with training data, we achieved an accuracy of 95% in RandomForestClassifier"
   ]
  },
  {
   "cell_type": "markdown",
   "id": "8251fb10",
   "metadata": {},
   "source": [
    "# Conclusion"
   ]
  },
  {
   "cell_type": "code",
   "execution_count": 107,
   "id": "bb2db8fb",
   "metadata": {},
   "outputs": [],
   "source": [
    "x=PrettyTable()"
   ]
  },
  {
   "cell_type": "code",
   "execution_count": 108,
   "id": "c392f974",
   "metadata": {},
   "outputs": [],
   "source": [
    "# Creating the table to compare the model accuracy\n",
    "\n",
    "x.field_names = [\"Model\",\"(test)Accuracy\", \"(train)Accuracy\"]\n",
    "x.add_row([\"Logistic Regression\",'78 %','76%'])\n",
    "x.add_row([\"K-Nearest Neighbor\", '76 %','85 %'])\n",
    "x.add_row([\"Support Vector Classifier\",'75 %','76 %'])\n",
    "x.add_row([\"Support Vector Classifier using GridsearchCV\",'74 %','90 %'])\n",
    "x.add_row([\"Decision Trees Classifier\",' 68 %','95 %'])\n",
    "x.add_row([\"Random Forest\", '68 %','95 %'])"
   ]
  },
  {
   "cell_type": "code",
   "execution_count": 109,
   "id": "3e407f5a",
   "metadata": {},
   "outputs": [
    {
     "name": "stdout",
     "output_type": "stream",
     "text": [
      "+----------------------------------------------+----------------+-----------------+\n",
      "|                    Model                     | (test)Accuracy | (train)Accuracy |\n",
      "+----------------------------------------------+----------------+-----------------+\n",
      "|             Logistic Regression              |      78 %      |       76%       |\n",
      "|              K-Nearest Neighbor              |      76 %      |       85 %      |\n",
      "|          Support Vector Classifier           |      75 %      |       76 %      |\n",
      "| Support Vector Classifier using GridsearchCV |      74 %      |       90 %      |\n",
      "|          Decision Trees Classifier           |      68 %      |       95 %      |\n",
      "|                Random Forest                 |      68 %      |       95 %      |\n",
      "+----------------------------------------------+----------------+-----------------+\n"
     ]
    }
   ],
   "source": [
    "# The accuracy of the every model\n",
    "print(x)"
   ]
  },
  {
   "cell_type": "markdown",
   "id": "fe2c330e",
   "metadata": {},
   "source": [
    "####  Based on the observations above, we can conclude that Logistic Regression is the best-fitting model with the  test data, we achieved an accuracy of 78%, and with training data, we achieved an accuracy of 95% accuracy for the given problem"
   ]
  },
  {
   "cell_type": "markdown",
   "id": "acbdaa81",
   "metadata": {},
   "source": [
    "# Conclusion"
   ]
  },
  {
   "cell_type": "markdown",
   "id": "fed5ea9e",
   "metadata": {},
   "source": [
    "Now we can target the people who are interested in donating blood and which will results in getting more volunteers and we can save more people.\n",
    "\n",
    "The demand for blood fluctuates throughout the year. As one prominent example, blood donations slow down during busy holiday seasons. An accurate forecast for the future supply of blood allows for an appropriate action to be taken ahead of time and therefore saving more lives.\n",
    "\n",
    "In this notebook, we explored automatic model selection using TPOT and AUC score we got was 0.7850. This is better than simply choosing 0 all the time (the target incidence suggests that such a model would have 76% success rate). We then log normalized our training data and improved the AUC score by 0.5%. In the field of machine learning, even small improvements in accuracy can be important, depending on the purpose.\n",
    "\n",
    "Another benefit of using logistic regression model is that it is interpretable. We can analyze how much of the variance in the response variable (target) can be explained by other variables in our dataset."
   ]
  }
 ],
 "metadata": {
  "kernelspec": {
   "display_name": "Python 3 (ipykernel)",
   "language": "python",
   "name": "python3"
  },
  "language_info": {
   "codemirror_mode": {
    "name": "ipython",
    "version": 3
   },
   "file_extension": ".py",
   "mimetype": "text/x-python",
   "name": "python",
   "nbconvert_exporter": "python",
   "pygments_lexer": "ipython3",
   "version": "3.9.12"
  }
 },
 "nbformat": 4,
 "nbformat_minor": 5
}
